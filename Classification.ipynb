{
  "cells": [
    {
      "cell_type": "markdown",
      "metadata": {
        "id": "view-in-github",
        "colab_type": "text"
      },
      "source": [
        "<a href=\"https://colab.research.google.com/github/Wachacha-jay/Computer_vision_Image_classification/blob/main/Classification.ipynb\" target=\"_parent\"><img src=\"https://colab.research.google.com/assets/colab-badge.svg\" alt=\"Open In Colab\"/></a>"
      ]
    },
    {
      "cell_type": "code",
      "execution_count": null,
      "metadata": {
        "colab": {
          "base_uri": "https://localhost:8080/"
        },
        "id": "JJ6VGuymgdoR",
        "outputId": "0ac92f2a-e11b-4795-a2ad-2dbaa8767c7a"
      },
      "outputs": [
        {
          "output_type": "stream",
          "name": "stdout",
          "text": [
            "Collecting torchinfo\n",
            "  Downloading torchinfo-1.8.0-py3-none-any.whl.metadata (21 kB)\n",
            "Downloading torchinfo-1.8.0-py3-none-any.whl (23 kB)\n",
            "Installing collected packages: torchinfo\n",
            "Successfully installed torchinfo-1.8.0\n"
          ]
        }
      ],
      "source": [
        "pip install torchinfo"
      ]
    },
    {
      "cell_type": "code",
      "execution_count": null,
      "metadata": {
        "id": "8clnYhpZdl3n"
      },
      "outputs": [],
      "source": [
        "import os\n",
        "import sys\n",
        "from collections import Counter\n",
        "\n",
        "import matplotlib\n",
        "import matplotlib.pyplot as plt\n",
        "import numpy as np\n",
        "import pandas as pd\n",
        "import PIL\n",
        "import torch\n",
        "import torch.nn as nn\n",
        "import torch.optim as optim\n",
        "import torchvision\n",
        "from sklearn.metrics import ConfusionMatrixDisplay, confusion_matrix\n",
        "from torch.utils.data import DataLoader, random_split\n",
        "from torchinfo import summary\n",
        "from torchvision import datasets, transforms\n",
        "from tqdm.notebook import tqdm\n",
        "\n",
        "torch.backends.cudnn.deterministic = True"
      ]
    },
    {
      "cell_type": "code",
      "execution_count": null,
      "metadata": {
        "id": "YRbdfUHwdoxG",
        "colab": {
          "base_uri": "https://localhost:8080/"
        },
        "outputId": "ab531368-47a4-45e3-8efa-be2da8bbcf2b"
      },
      "outputs": [
        {
          "output_type": "stream",
          "name": "stdout",
          "text": [
            "Platform: linux\n",
            "Python version: 3.11.13 (main, Jun  4 2025, 08:57:29) [GCC 11.4.0]\n",
            "---\n",
            "matplotlib version: 3.10.0\n",
            "pandas version: 2.2.2\n",
            "PIL version: 11.2.1\n",
            "torch version: 2.6.0+cu124\n",
            "torchvision version: 0.21.0+cu124\n"
          ]
        }
      ],
      "source": [
        "print(\"Platform:\", sys.platform)\n",
        "print(\"Python version:\", sys.version)\n",
        "print(\"---\")\n",
        "print(\"matplotlib version:\", matplotlib.__version__)\n",
        "print(\"pandas version:\", pd.__version__)\n",
        "print(\"PIL version:\", PIL.__version__)\n",
        "print(\"torch version:\", torch.__version__)\n",
        "print(\"torchvision version:\", torchvision.__version__)"
      ]
    },
    {
      "cell_type": "code",
      "execution_count": null,
      "metadata": {
        "id": "QgcGOKOkdwZ7",
        "colab": {
          "base_uri": "https://localhost:8080/"
        },
        "outputId": "98b884d3-5b48-4aa4-8573-6225e63eacb8"
      },
      "outputs": [
        {
          "output_type": "stream",
          "name": "stdout",
          "text": [
            "Using cuda device.\n"
          ]
        }
      ],
      "source": [
        "if torch.cuda.is_available():\n",
        "    device = \"cuda\"\n",
        "elif torch.backends.mps.is_available():\n",
        "    device = \"mps\"\n",
        "else:\n",
        "    device = \"cpu\"\n",
        "\n",
        "print(f\"Using {device} device.\")"
      ]
    },
    {
      "cell_type": "code",
      "execution_count": null,
      "metadata": {
        "id": "eS3UPNUYhMN1"
      },
      "outputs": [],
      "source": []
    },
    {
      "cell_type": "code",
      "execution_count": null,
      "metadata": {
        "id": "LfhsoIR82px_",
        "colab": {
          "base_uri": "https://localhost:8080/",
          "height": 228
        },
        "outputId": "40e5beac-0e1c-423e-e2aa-5b62ef1f8ff8"
      },
      "outputs": [
        {
          "output_type": "stream",
          "name": "stdout",
          "text": [
            "Requirement already satisfied: kagglehub in /usr/local/lib/python3.11/dist-packages (0.3.12)\n",
            "Requirement already satisfied: packaging in /usr/local/lib/python3.11/dist-packages (from kagglehub) (24.2)\n",
            "Requirement already satisfied: pyyaml in /usr/local/lib/python3.11/dist-packages (from kagglehub) (6.0.2)\n",
            "Requirement already satisfied: requests in /usr/local/lib/python3.11/dist-packages (from kagglehub) (2.32.3)\n",
            "Requirement already satisfied: tqdm in /usr/local/lib/python3.11/dist-packages (from kagglehub) (4.67.1)\n",
            "Requirement already satisfied: charset-normalizer<4,>=2 in /usr/local/lib/python3.11/dist-packages (from requests->kagglehub) (3.4.2)\n",
            "Requirement already satisfied: idna<4,>=2.5 in /usr/local/lib/python3.11/dist-packages (from requests->kagglehub) (3.10)\n",
            "Requirement already satisfied: urllib3<3,>=1.21.1 in /usr/local/lib/python3.11/dist-packages (from requests->kagglehub) (2.4.0)\n",
            "Requirement already satisfied: certifi>=2017.4.17 in /usr/local/lib/python3.11/dist-packages (from requests->kagglehub) (2025.6.15)\n"
          ]
        },
        {
          "output_type": "display_data",
          "data": {
            "text/plain": [
              "<IPython.core.display.HTML object>"
            ],
            "text/html": [
              "\n",
              "     <input type=\"file\" id=\"files-072762ef-5e56-4ac9-bccf-649286846096\" name=\"files[]\" multiple disabled\n",
              "        style=\"border:none\" />\n",
              "     <output id=\"result-072762ef-5e56-4ac9-bccf-649286846096\">\n",
              "      Upload widget is only available when the cell has been executed in the\n",
              "      current browser session. Please rerun this cell to enable.\n",
              "      </output>\n",
              "      <script>// Copyright 2017 Google LLC\n",
              "//\n",
              "// Licensed under the Apache License, Version 2.0 (the \"License\");\n",
              "// you may not use this file except in compliance with the License.\n",
              "// You may obtain a copy of the License at\n",
              "//\n",
              "//      http://www.apache.org/licenses/LICENSE-2.0\n",
              "//\n",
              "// Unless required by applicable law or agreed to in writing, software\n",
              "// distributed under the License is distributed on an \"AS IS\" BASIS,\n",
              "// WITHOUT WARRANTIES OR CONDITIONS OF ANY KIND, either express or implied.\n",
              "// See the License for the specific language governing permissions and\n",
              "// limitations under the License.\n",
              "\n",
              "/**\n",
              " * @fileoverview Helpers for google.colab Python module.\n",
              " */\n",
              "(function(scope) {\n",
              "function span(text, styleAttributes = {}) {\n",
              "  const element = document.createElement('span');\n",
              "  element.textContent = text;\n",
              "  for (const key of Object.keys(styleAttributes)) {\n",
              "    element.style[key] = styleAttributes[key];\n",
              "  }\n",
              "  return element;\n",
              "}\n",
              "\n",
              "// Max number of bytes which will be uploaded at a time.\n",
              "const MAX_PAYLOAD_SIZE = 100 * 1024;\n",
              "\n",
              "function _uploadFiles(inputId, outputId) {\n",
              "  const steps = uploadFilesStep(inputId, outputId);\n",
              "  const outputElement = document.getElementById(outputId);\n",
              "  // Cache steps on the outputElement to make it available for the next call\n",
              "  // to uploadFilesContinue from Python.\n",
              "  outputElement.steps = steps;\n",
              "\n",
              "  return _uploadFilesContinue(outputId);\n",
              "}\n",
              "\n",
              "// This is roughly an async generator (not supported in the browser yet),\n",
              "// where there are multiple asynchronous steps and the Python side is going\n",
              "// to poll for completion of each step.\n",
              "// This uses a Promise to block the python side on completion of each step,\n",
              "// then passes the result of the previous step as the input to the next step.\n",
              "function _uploadFilesContinue(outputId) {\n",
              "  const outputElement = document.getElementById(outputId);\n",
              "  const steps = outputElement.steps;\n",
              "\n",
              "  const next = steps.next(outputElement.lastPromiseValue);\n",
              "  return Promise.resolve(next.value.promise).then((value) => {\n",
              "    // Cache the last promise value to make it available to the next\n",
              "    // step of the generator.\n",
              "    outputElement.lastPromiseValue = value;\n",
              "    return next.value.response;\n",
              "  });\n",
              "}\n",
              "\n",
              "/**\n",
              " * Generator function which is called between each async step of the upload\n",
              " * process.\n",
              " * @param {string} inputId Element ID of the input file picker element.\n",
              " * @param {string} outputId Element ID of the output display.\n",
              " * @return {!Iterable<!Object>} Iterable of next steps.\n",
              " */\n",
              "function* uploadFilesStep(inputId, outputId) {\n",
              "  const inputElement = document.getElementById(inputId);\n",
              "  inputElement.disabled = false;\n",
              "\n",
              "  const outputElement = document.getElementById(outputId);\n",
              "  outputElement.innerHTML = '';\n",
              "\n",
              "  const pickedPromise = new Promise((resolve) => {\n",
              "    inputElement.addEventListener('change', (e) => {\n",
              "      resolve(e.target.files);\n",
              "    });\n",
              "  });\n",
              "\n",
              "  const cancel = document.createElement('button');\n",
              "  inputElement.parentElement.appendChild(cancel);\n",
              "  cancel.textContent = 'Cancel upload';\n",
              "  const cancelPromise = new Promise((resolve) => {\n",
              "    cancel.onclick = () => {\n",
              "      resolve(null);\n",
              "    };\n",
              "  });\n",
              "\n",
              "  // Wait for the user to pick the files.\n",
              "  const files = yield {\n",
              "    promise: Promise.race([pickedPromise, cancelPromise]),\n",
              "    response: {\n",
              "      action: 'starting',\n",
              "    }\n",
              "  };\n",
              "\n",
              "  cancel.remove();\n",
              "\n",
              "  // Disable the input element since further picks are not allowed.\n",
              "  inputElement.disabled = true;\n",
              "\n",
              "  if (!files) {\n",
              "    return {\n",
              "      response: {\n",
              "        action: 'complete',\n",
              "      }\n",
              "    };\n",
              "  }\n",
              "\n",
              "  for (const file of files) {\n",
              "    const li = document.createElement('li');\n",
              "    li.append(span(file.name, {fontWeight: 'bold'}));\n",
              "    li.append(span(\n",
              "        `(${file.type || 'n/a'}) - ${file.size} bytes, ` +\n",
              "        `last modified: ${\n",
              "            file.lastModifiedDate ? file.lastModifiedDate.toLocaleDateString() :\n",
              "                                    'n/a'} - `));\n",
              "    const percent = span('0% done');\n",
              "    li.appendChild(percent);\n",
              "\n",
              "    outputElement.appendChild(li);\n",
              "\n",
              "    const fileDataPromise = new Promise((resolve) => {\n",
              "      const reader = new FileReader();\n",
              "      reader.onload = (e) => {\n",
              "        resolve(e.target.result);\n",
              "      };\n",
              "      reader.readAsArrayBuffer(file);\n",
              "    });\n",
              "    // Wait for the data to be ready.\n",
              "    let fileData = yield {\n",
              "      promise: fileDataPromise,\n",
              "      response: {\n",
              "        action: 'continue',\n",
              "      }\n",
              "    };\n",
              "\n",
              "    // Use a chunked sending to avoid message size limits. See b/62115660.\n",
              "    let position = 0;\n",
              "    do {\n",
              "      const length = Math.min(fileData.byteLength - position, MAX_PAYLOAD_SIZE);\n",
              "      const chunk = new Uint8Array(fileData, position, length);\n",
              "      position += length;\n",
              "\n",
              "      const base64 = btoa(String.fromCharCode.apply(null, chunk));\n",
              "      yield {\n",
              "        response: {\n",
              "          action: 'append',\n",
              "          file: file.name,\n",
              "          data: base64,\n",
              "        },\n",
              "      };\n",
              "\n",
              "      let percentDone = fileData.byteLength === 0 ?\n",
              "          100 :\n",
              "          Math.round((position / fileData.byteLength) * 100);\n",
              "      percent.textContent = `${percentDone}% done`;\n",
              "\n",
              "    } while (position < fileData.byteLength);\n",
              "  }\n",
              "\n",
              "  // All done.\n",
              "  yield {\n",
              "    response: {\n",
              "      action: 'complete',\n",
              "    }\n",
              "  };\n",
              "}\n",
              "\n",
              "scope.google = scope.google || {};\n",
              "scope.google.colab = scope.google.colab || {};\n",
              "scope.google.colab._files = {\n",
              "  _uploadFiles,\n",
              "  _uploadFilesContinue,\n",
              "};\n",
              "})(self);\n",
              "</script> "
            ]
          },
          "metadata": {}
        },
        {
          "output_type": "stream",
          "name": "stdout",
          "text": [
            "Saving kaggle.json to kaggle.json\n"
          ]
        }
      ],
      "source": [
        "!pip install kagglehub\n",
        "\n",
        "# Upload your Kaggle API key (kaggle.json)\n",
        "from google.colab import files\n",
        "files.upload()  # Select your kaggle.json file\n",
        "\n",
        "# Move the key to the correct directory\n",
        "!mkdir -p ~/.kaggle\n",
        "!cp kaggle.json ~/.kaggle/\n",
        "!chmod 600 ~/.kaggle/kaggle.json"
      ]
    },
    {
      "cell_type": "code",
      "execution_count": null,
      "metadata": {
        "id": "avFVTuHT-BPD",
        "colab": {
          "base_uri": "https://localhost:8080/"
        },
        "outputId": "b3660079-6384-4d57-dbcc-252a8c8ecb18"
      },
      "outputs": [
        {
          "output_type": "stream",
          "name": "stdout",
          "text": [
            "Path to dataset files: /kaggle/input/cassava-plant-disease-merged-20192020\n"
          ]
        }
      ],
      "source": [
        "import kagglehub\n",
        "\n",
        "# Download the dataset\n",
        "path = kagglehub.dataset_download(\"srg9000/cassava-plant-disease-merged-20192020\")\n",
        "\n",
        "print(\"Path to dataset files:\", path)  # This will show where the dataset is stored"
      ]
    },
    {
      "cell_type": "code",
      "execution_count": null,
      "metadata": {
        "id": "CGJjF680-9II",
        "colab": {
          "base_uri": "https://localhost:8080/"
        },
        "outputId": "576f83fb-1f17-4810-8c09-480075181c7b"
      },
      "outputs": [
        {
          "output_type": "stream",
          "name": "stdout",
          "text": [
            "./cassava_dataset already exists\n"
          ]
        }
      ],
      "source": [
        "import shutil\n",
        "import os\n",
        "\n",
        "# Copy the dataset to a new location\n",
        "destination = \"./cassava_dataset\"\n",
        "if not os.path.exists(destination):\n",
        "    shutil.copytree(path, destination)\n",
        "    print(f\"Dataset copied to {destination}\")\n",
        "else:\n",
        "    print(f\"{destination} already exists\")"
      ]
    },
    {
      "cell_type": "code",
      "execution_count": null,
      "metadata": {
        "id": "bNn5MztuBb1s",
        "colab": {
          "base_uri": "https://localhost:8080/",
          "height": 36
        },
        "outputId": "9da76aeb-c0c4-43a9-8d88-5c0d9855ff61"
      },
      "outputs": [
        {
          "output_type": "execute_result",
          "data": {
            "text/plain": [
              "'./cassava_dataset'"
            ],
            "application/vnd.google.colaboratory.intrinsic+json": {
              "type": "string"
            }
          },
          "metadata": {},
          "execution_count": 5
        }
      ],
      "source": [
        "destination"
      ]
    },
    {
      "cell_type": "code",
      "execution_count": null,
      "metadata": {
        "id": "pwGQnwUTFKOj",
        "colab": {
          "base_uri": "https://localhost:8080/"
        },
        "outputId": "418dfae6-c15e-4b70-c7d0-04033ac3374c"
      },
      "outputs": [
        {
          "output_type": "execute_result",
          "data": {
            "text/plain": [
              "['train_images_tfrecords',\n",
              " 'merged_train.csv',\n",
              " 'extra_images',\n",
              " 'extraimages_tfrecords',\n",
              " 'train_images']"
            ]
          },
          "metadata": {},
          "execution_count": 6
        }
      ],
      "source": [
        "os.listdir(destination)"
      ]
    },
    {
      "cell_type": "code",
      "execution_count": null,
      "metadata": {
        "id": "FlKmj5aaFX7l"
      },
      "outputs": [],
      "source": [
        "data_dir = os.path.join(destination, 'merged_train.csv')"
      ]
    },
    {
      "cell_type": "code",
      "execution_count": null,
      "metadata": {
        "id": "ILQkxZBWFxSu",
        "colab": {
          "base_uri": "https://localhost:8080/",
          "height": 206
        },
        "outputId": "a00d1ffd-0b52-4700-beec-fc9c16672e70"
      },
      "outputs": [
        {
          "output_type": "execute_result",
          "data": {
            "text/plain": [
              "         image_id  labels\n",
              "0   723977410.jpg       3\n",
              "1  3193577634.jpg       1\n",
              "2  3349107107.jpg       3\n",
              "3  2933959901.jpg       0\n",
              "4  3020460837.jpg       4"
            ],
            "text/html": [
              "\n",
              "  <div id=\"df-55e86412-8482-4112-9282-bec47290208f\" class=\"colab-df-container\">\n",
              "    <div>\n",
              "<style scoped>\n",
              "    .dataframe tbody tr th:only-of-type {\n",
              "        vertical-align: middle;\n",
              "    }\n",
              "\n",
              "    .dataframe tbody tr th {\n",
              "        vertical-align: top;\n",
              "    }\n",
              "\n",
              "    .dataframe thead th {\n",
              "        text-align: right;\n",
              "    }\n",
              "</style>\n",
              "<table border=\"1\" class=\"dataframe\">\n",
              "  <thead>\n",
              "    <tr style=\"text-align: right;\">\n",
              "      <th></th>\n",
              "      <th>image_id</th>\n",
              "      <th>labels</th>\n",
              "    </tr>\n",
              "  </thead>\n",
              "  <tbody>\n",
              "    <tr>\n",
              "      <th>0</th>\n",
              "      <td>723977410.jpg</td>\n",
              "      <td>3</td>\n",
              "    </tr>\n",
              "    <tr>\n",
              "      <th>1</th>\n",
              "      <td>3193577634.jpg</td>\n",
              "      <td>1</td>\n",
              "    </tr>\n",
              "    <tr>\n",
              "      <th>2</th>\n",
              "      <td>3349107107.jpg</td>\n",
              "      <td>3</td>\n",
              "    </tr>\n",
              "    <tr>\n",
              "      <th>3</th>\n",
              "      <td>2933959901.jpg</td>\n",
              "      <td>0</td>\n",
              "    </tr>\n",
              "    <tr>\n",
              "      <th>4</th>\n",
              "      <td>3020460837.jpg</td>\n",
              "      <td>4</td>\n",
              "    </tr>\n",
              "  </tbody>\n",
              "</table>\n",
              "</div>\n",
              "    <div class=\"colab-df-buttons\">\n",
              "\n",
              "  <div class=\"colab-df-container\">\n",
              "    <button class=\"colab-df-convert\" onclick=\"convertToInteractive('df-55e86412-8482-4112-9282-bec47290208f')\"\n",
              "            title=\"Convert this dataframe to an interactive table.\"\n",
              "            style=\"display:none;\">\n",
              "\n",
              "  <svg xmlns=\"http://www.w3.org/2000/svg\" height=\"24px\" viewBox=\"0 -960 960 960\">\n",
              "    <path d=\"M120-120v-720h720v720H120Zm60-500h600v-160H180v160Zm220 220h160v-160H400v160Zm0 220h160v-160H400v160ZM180-400h160v-160H180v160Zm440 0h160v-160H620v160ZM180-180h160v-160H180v160Zm440 0h160v-160H620v160Z\"/>\n",
              "  </svg>\n",
              "    </button>\n",
              "\n",
              "  <style>\n",
              "    .colab-df-container {\n",
              "      display:flex;\n",
              "      gap: 12px;\n",
              "    }\n",
              "\n",
              "    .colab-df-convert {\n",
              "      background-color: #E8F0FE;\n",
              "      border: none;\n",
              "      border-radius: 50%;\n",
              "      cursor: pointer;\n",
              "      display: none;\n",
              "      fill: #1967D2;\n",
              "      height: 32px;\n",
              "      padding: 0 0 0 0;\n",
              "      width: 32px;\n",
              "    }\n",
              "\n",
              "    .colab-df-convert:hover {\n",
              "      background-color: #E2EBFA;\n",
              "      box-shadow: 0px 1px 2px rgba(60, 64, 67, 0.3), 0px 1px 3px 1px rgba(60, 64, 67, 0.15);\n",
              "      fill: #174EA6;\n",
              "    }\n",
              "\n",
              "    .colab-df-buttons div {\n",
              "      margin-bottom: 4px;\n",
              "    }\n",
              "\n",
              "    [theme=dark] .colab-df-convert {\n",
              "      background-color: #3B4455;\n",
              "      fill: #D2E3FC;\n",
              "    }\n",
              "\n",
              "    [theme=dark] .colab-df-convert:hover {\n",
              "      background-color: #434B5C;\n",
              "      box-shadow: 0px 1px 3px 1px rgba(0, 0, 0, 0.15);\n",
              "      filter: drop-shadow(0px 1px 2px rgba(0, 0, 0, 0.3));\n",
              "      fill: #FFFFFF;\n",
              "    }\n",
              "  </style>\n",
              "\n",
              "    <script>\n",
              "      const buttonEl =\n",
              "        document.querySelector('#df-55e86412-8482-4112-9282-bec47290208f button.colab-df-convert');\n",
              "      buttonEl.style.display =\n",
              "        google.colab.kernel.accessAllowed ? 'block' : 'none';\n",
              "\n",
              "      async function convertToInteractive(key) {\n",
              "        const element = document.querySelector('#df-55e86412-8482-4112-9282-bec47290208f');\n",
              "        const dataTable =\n",
              "          await google.colab.kernel.invokeFunction('convertToInteractive',\n",
              "                                                    [key], {});\n",
              "        if (!dataTable) return;\n",
              "\n",
              "        const docLinkHtml = 'Like what you see? Visit the ' +\n",
              "          '<a target=\"_blank\" href=https://colab.research.google.com/notebooks/data_table.ipynb>data table notebook</a>'\n",
              "          + ' to learn more about interactive tables.';\n",
              "        element.innerHTML = '';\n",
              "        dataTable['output_type'] = 'display_data';\n",
              "        await google.colab.output.renderOutput(dataTable, element);\n",
              "        const docLink = document.createElement('div');\n",
              "        docLink.innerHTML = docLinkHtml;\n",
              "        element.appendChild(docLink);\n",
              "      }\n",
              "    </script>\n",
              "  </div>\n",
              "\n",
              "\n",
              "    <div id=\"df-1eaa76a4-636f-4688-b730-e982449de18f\">\n",
              "      <button class=\"colab-df-quickchart\" onclick=\"quickchart('df-1eaa76a4-636f-4688-b730-e982449de18f')\"\n",
              "                title=\"Suggest charts\"\n",
              "                style=\"display:none;\">\n",
              "\n",
              "<svg xmlns=\"http://www.w3.org/2000/svg\" height=\"24px\"viewBox=\"0 0 24 24\"\n",
              "     width=\"24px\">\n",
              "    <g>\n",
              "        <path d=\"M19 3H5c-1.1 0-2 .9-2 2v14c0 1.1.9 2 2 2h14c1.1 0 2-.9 2-2V5c0-1.1-.9-2-2-2zM9 17H7v-7h2v7zm4 0h-2V7h2v10zm4 0h-2v-4h2v4z\"/>\n",
              "    </g>\n",
              "</svg>\n",
              "      </button>\n",
              "\n",
              "<style>\n",
              "  .colab-df-quickchart {\n",
              "      --bg-color: #E8F0FE;\n",
              "      --fill-color: #1967D2;\n",
              "      --hover-bg-color: #E2EBFA;\n",
              "      --hover-fill-color: #174EA6;\n",
              "      --disabled-fill-color: #AAA;\n",
              "      --disabled-bg-color: #DDD;\n",
              "  }\n",
              "\n",
              "  [theme=dark] .colab-df-quickchart {\n",
              "      --bg-color: #3B4455;\n",
              "      --fill-color: #D2E3FC;\n",
              "      --hover-bg-color: #434B5C;\n",
              "      --hover-fill-color: #FFFFFF;\n",
              "      --disabled-bg-color: #3B4455;\n",
              "      --disabled-fill-color: #666;\n",
              "  }\n",
              "\n",
              "  .colab-df-quickchart {\n",
              "    background-color: var(--bg-color);\n",
              "    border: none;\n",
              "    border-radius: 50%;\n",
              "    cursor: pointer;\n",
              "    display: none;\n",
              "    fill: var(--fill-color);\n",
              "    height: 32px;\n",
              "    padding: 0;\n",
              "    width: 32px;\n",
              "  }\n",
              "\n",
              "  .colab-df-quickchart:hover {\n",
              "    background-color: var(--hover-bg-color);\n",
              "    box-shadow: 0 1px 2px rgba(60, 64, 67, 0.3), 0 1px 3px 1px rgba(60, 64, 67, 0.15);\n",
              "    fill: var(--button-hover-fill-color);\n",
              "  }\n",
              "\n",
              "  .colab-df-quickchart-complete:disabled,\n",
              "  .colab-df-quickchart-complete:disabled:hover {\n",
              "    background-color: var(--disabled-bg-color);\n",
              "    fill: var(--disabled-fill-color);\n",
              "    box-shadow: none;\n",
              "  }\n",
              "\n",
              "  .colab-df-spinner {\n",
              "    border: 2px solid var(--fill-color);\n",
              "    border-color: transparent;\n",
              "    border-bottom-color: var(--fill-color);\n",
              "    animation:\n",
              "      spin 1s steps(1) infinite;\n",
              "  }\n",
              "\n",
              "  @keyframes spin {\n",
              "    0% {\n",
              "      border-color: transparent;\n",
              "      border-bottom-color: var(--fill-color);\n",
              "      border-left-color: var(--fill-color);\n",
              "    }\n",
              "    20% {\n",
              "      border-color: transparent;\n",
              "      border-left-color: var(--fill-color);\n",
              "      border-top-color: var(--fill-color);\n",
              "    }\n",
              "    30% {\n",
              "      border-color: transparent;\n",
              "      border-left-color: var(--fill-color);\n",
              "      border-top-color: var(--fill-color);\n",
              "      border-right-color: var(--fill-color);\n",
              "    }\n",
              "    40% {\n",
              "      border-color: transparent;\n",
              "      border-right-color: var(--fill-color);\n",
              "      border-top-color: var(--fill-color);\n",
              "    }\n",
              "    60% {\n",
              "      border-color: transparent;\n",
              "      border-right-color: var(--fill-color);\n",
              "    }\n",
              "    80% {\n",
              "      border-color: transparent;\n",
              "      border-right-color: var(--fill-color);\n",
              "      border-bottom-color: var(--fill-color);\n",
              "    }\n",
              "    90% {\n",
              "      border-color: transparent;\n",
              "      border-bottom-color: var(--fill-color);\n",
              "    }\n",
              "  }\n",
              "</style>\n",
              "\n",
              "      <script>\n",
              "        async function quickchart(key) {\n",
              "          const quickchartButtonEl =\n",
              "            document.querySelector('#' + key + ' button');\n",
              "          quickchartButtonEl.disabled = true;  // To prevent multiple clicks.\n",
              "          quickchartButtonEl.classList.add('colab-df-spinner');\n",
              "          try {\n",
              "            const charts = await google.colab.kernel.invokeFunction(\n",
              "                'suggestCharts', [key], {});\n",
              "          } catch (error) {\n",
              "            console.error('Error during call to suggestCharts:', error);\n",
              "          }\n",
              "          quickchartButtonEl.classList.remove('colab-df-spinner');\n",
              "          quickchartButtonEl.classList.add('colab-df-quickchart-complete');\n",
              "        }\n",
              "        (() => {\n",
              "          let quickchartButtonEl =\n",
              "            document.querySelector('#df-1eaa76a4-636f-4688-b730-e982449de18f button');\n",
              "          quickchartButtonEl.style.display =\n",
              "            google.colab.kernel.accessAllowed ? 'block' : 'none';\n",
              "        })();\n",
              "      </script>\n",
              "    </div>\n",
              "\n",
              "    </div>\n",
              "  </div>\n"
            ],
            "application/vnd.google.colaboratory.intrinsic+json": {
              "type": "dataframe",
              "variable_name": "df",
              "summary": "{\n  \"name\": \"df\",\n  \"rows\": 27053,\n  \"fields\": [\n    {\n      \"column\": \"image_id\",\n      \"properties\": {\n        \"dtype\": \"string\",\n        \"num_unique_values\": 27053,\n        \"samples\": [\n          \"660715584.jpg\",\n          \"2522103312.jpg\",\n          \"3492066669.jpg\"\n        ],\n        \"semantic_type\": \"\",\n        \"description\": \"\"\n      }\n    },\n    {\n      \"column\": \"labels\",\n      \"properties\": {\n        \"dtype\": \"number\",\n        \"std\": 1,\n        \"min\": 0,\n        \"max\": 4,\n        \"num_unique_values\": 5,\n        \"samples\": [\n          1,\n          2,\n          0\n        ],\n        \"semantic_type\": \"\",\n        \"description\": \"\"\n      }\n    }\n  ]\n}"
            }
          },
          "metadata": {},
          "execution_count": 8
        }
      ],
      "source": [
        "import pandas as pd\n",
        "df = pd.read_csv(data_dir)\n",
        "df.head()"
      ]
    },
    {
      "cell_type": "code",
      "execution_count": null,
      "metadata": {
        "id": "dHihgI6PGEB-",
        "colab": {
          "base_uri": "https://localhost:8080/",
          "height": 206
        },
        "outputId": "8848ecb3-d758-46cc-858a-f896994dc968"
      },
      "outputs": [
        {
          "output_type": "execute_result",
          "data": {
            "text/plain": [
              "         image_id  labels                         disease_name\n",
              "0   723977410.jpg       3         Cassava Mosaic Disease (CMD)\n",
              "1  3193577634.jpg       1  Cassava Brown Streak Disease (CBSD)\n",
              "2  3349107107.jpg       3         Cassava Mosaic Disease (CMD)\n",
              "3  2933959901.jpg       0       Cassava Bacterial Blight (CBB)\n",
              "4  3020460837.jpg       4                              Healthy"
            ],
            "text/html": [
              "\n",
              "  <div id=\"df-60b178e5-6f71-40a0-a5f6-c405a0408121\" class=\"colab-df-container\">\n",
              "    <div>\n",
              "<style scoped>\n",
              "    .dataframe tbody tr th:only-of-type {\n",
              "        vertical-align: middle;\n",
              "    }\n",
              "\n",
              "    .dataframe tbody tr th {\n",
              "        vertical-align: top;\n",
              "    }\n",
              "\n",
              "    .dataframe thead th {\n",
              "        text-align: right;\n",
              "    }\n",
              "</style>\n",
              "<table border=\"1\" class=\"dataframe\">\n",
              "  <thead>\n",
              "    <tr style=\"text-align: right;\">\n",
              "      <th></th>\n",
              "      <th>image_id</th>\n",
              "      <th>labels</th>\n",
              "      <th>disease_name</th>\n",
              "    </tr>\n",
              "  </thead>\n",
              "  <tbody>\n",
              "    <tr>\n",
              "      <th>0</th>\n",
              "      <td>723977410.jpg</td>\n",
              "      <td>3</td>\n",
              "      <td>Cassava Mosaic Disease (CMD)</td>\n",
              "    </tr>\n",
              "    <tr>\n",
              "      <th>1</th>\n",
              "      <td>3193577634.jpg</td>\n",
              "      <td>1</td>\n",
              "      <td>Cassava Brown Streak Disease (CBSD)</td>\n",
              "    </tr>\n",
              "    <tr>\n",
              "      <th>2</th>\n",
              "      <td>3349107107.jpg</td>\n",
              "      <td>3</td>\n",
              "      <td>Cassava Mosaic Disease (CMD)</td>\n",
              "    </tr>\n",
              "    <tr>\n",
              "      <th>3</th>\n",
              "      <td>2933959901.jpg</td>\n",
              "      <td>0</td>\n",
              "      <td>Cassava Bacterial Blight (CBB)</td>\n",
              "    </tr>\n",
              "    <tr>\n",
              "      <th>4</th>\n",
              "      <td>3020460837.jpg</td>\n",
              "      <td>4</td>\n",
              "      <td>Healthy</td>\n",
              "    </tr>\n",
              "  </tbody>\n",
              "</table>\n",
              "</div>\n",
              "    <div class=\"colab-df-buttons\">\n",
              "\n",
              "  <div class=\"colab-df-container\">\n",
              "    <button class=\"colab-df-convert\" onclick=\"convertToInteractive('df-60b178e5-6f71-40a0-a5f6-c405a0408121')\"\n",
              "            title=\"Convert this dataframe to an interactive table.\"\n",
              "            style=\"display:none;\">\n",
              "\n",
              "  <svg xmlns=\"http://www.w3.org/2000/svg\" height=\"24px\" viewBox=\"0 -960 960 960\">\n",
              "    <path d=\"M120-120v-720h720v720H120Zm60-500h600v-160H180v160Zm220 220h160v-160H400v160Zm0 220h160v-160H400v160ZM180-400h160v-160H180v160Zm440 0h160v-160H620v160ZM180-180h160v-160H180v160Zm440 0h160v-160H620v160Z\"/>\n",
              "  </svg>\n",
              "    </button>\n",
              "\n",
              "  <style>\n",
              "    .colab-df-container {\n",
              "      display:flex;\n",
              "      gap: 12px;\n",
              "    }\n",
              "\n",
              "    .colab-df-convert {\n",
              "      background-color: #E8F0FE;\n",
              "      border: none;\n",
              "      border-radius: 50%;\n",
              "      cursor: pointer;\n",
              "      display: none;\n",
              "      fill: #1967D2;\n",
              "      height: 32px;\n",
              "      padding: 0 0 0 0;\n",
              "      width: 32px;\n",
              "    }\n",
              "\n",
              "    .colab-df-convert:hover {\n",
              "      background-color: #E2EBFA;\n",
              "      box-shadow: 0px 1px 2px rgba(60, 64, 67, 0.3), 0px 1px 3px 1px rgba(60, 64, 67, 0.15);\n",
              "      fill: #174EA6;\n",
              "    }\n",
              "\n",
              "    .colab-df-buttons div {\n",
              "      margin-bottom: 4px;\n",
              "    }\n",
              "\n",
              "    [theme=dark] .colab-df-convert {\n",
              "      background-color: #3B4455;\n",
              "      fill: #D2E3FC;\n",
              "    }\n",
              "\n",
              "    [theme=dark] .colab-df-convert:hover {\n",
              "      background-color: #434B5C;\n",
              "      box-shadow: 0px 1px 3px 1px rgba(0, 0, 0, 0.15);\n",
              "      filter: drop-shadow(0px 1px 2px rgba(0, 0, 0, 0.3));\n",
              "      fill: #FFFFFF;\n",
              "    }\n",
              "  </style>\n",
              "\n",
              "    <script>\n",
              "      const buttonEl =\n",
              "        document.querySelector('#df-60b178e5-6f71-40a0-a5f6-c405a0408121 button.colab-df-convert');\n",
              "      buttonEl.style.display =\n",
              "        google.colab.kernel.accessAllowed ? 'block' : 'none';\n",
              "\n",
              "      async function convertToInteractive(key) {\n",
              "        const element = document.querySelector('#df-60b178e5-6f71-40a0-a5f6-c405a0408121');\n",
              "        const dataTable =\n",
              "          await google.colab.kernel.invokeFunction('convertToInteractive',\n",
              "                                                    [key], {});\n",
              "        if (!dataTable) return;\n",
              "\n",
              "        const docLinkHtml = 'Like what you see? Visit the ' +\n",
              "          '<a target=\"_blank\" href=https://colab.research.google.com/notebooks/data_table.ipynb>data table notebook</a>'\n",
              "          + ' to learn more about interactive tables.';\n",
              "        element.innerHTML = '';\n",
              "        dataTable['output_type'] = 'display_data';\n",
              "        await google.colab.output.renderOutput(dataTable, element);\n",
              "        const docLink = document.createElement('div');\n",
              "        docLink.innerHTML = docLinkHtml;\n",
              "        element.appendChild(docLink);\n",
              "      }\n",
              "    </script>\n",
              "  </div>\n",
              "\n",
              "\n",
              "    <div id=\"df-df43fcb6-9efc-4b39-9ef2-120405baa749\">\n",
              "      <button class=\"colab-df-quickchart\" onclick=\"quickchart('df-df43fcb6-9efc-4b39-9ef2-120405baa749')\"\n",
              "                title=\"Suggest charts\"\n",
              "                style=\"display:none;\">\n",
              "\n",
              "<svg xmlns=\"http://www.w3.org/2000/svg\" height=\"24px\"viewBox=\"0 0 24 24\"\n",
              "     width=\"24px\">\n",
              "    <g>\n",
              "        <path d=\"M19 3H5c-1.1 0-2 .9-2 2v14c0 1.1.9 2 2 2h14c1.1 0 2-.9 2-2V5c0-1.1-.9-2-2-2zM9 17H7v-7h2v7zm4 0h-2V7h2v10zm4 0h-2v-4h2v4z\"/>\n",
              "    </g>\n",
              "</svg>\n",
              "      </button>\n",
              "\n",
              "<style>\n",
              "  .colab-df-quickchart {\n",
              "      --bg-color: #E8F0FE;\n",
              "      --fill-color: #1967D2;\n",
              "      --hover-bg-color: #E2EBFA;\n",
              "      --hover-fill-color: #174EA6;\n",
              "      --disabled-fill-color: #AAA;\n",
              "      --disabled-bg-color: #DDD;\n",
              "  }\n",
              "\n",
              "  [theme=dark] .colab-df-quickchart {\n",
              "      --bg-color: #3B4455;\n",
              "      --fill-color: #D2E3FC;\n",
              "      --hover-bg-color: #434B5C;\n",
              "      --hover-fill-color: #FFFFFF;\n",
              "      --disabled-bg-color: #3B4455;\n",
              "      --disabled-fill-color: #666;\n",
              "  }\n",
              "\n",
              "  .colab-df-quickchart {\n",
              "    background-color: var(--bg-color);\n",
              "    border: none;\n",
              "    border-radius: 50%;\n",
              "    cursor: pointer;\n",
              "    display: none;\n",
              "    fill: var(--fill-color);\n",
              "    height: 32px;\n",
              "    padding: 0;\n",
              "    width: 32px;\n",
              "  }\n",
              "\n",
              "  .colab-df-quickchart:hover {\n",
              "    background-color: var(--hover-bg-color);\n",
              "    box-shadow: 0 1px 2px rgba(60, 64, 67, 0.3), 0 1px 3px 1px rgba(60, 64, 67, 0.15);\n",
              "    fill: var(--button-hover-fill-color);\n",
              "  }\n",
              "\n",
              "  .colab-df-quickchart-complete:disabled,\n",
              "  .colab-df-quickchart-complete:disabled:hover {\n",
              "    background-color: var(--disabled-bg-color);\n",
              "    fill: var(--disabled-fill-color);\n",
              "    box-shadow: none;\n",
              "  }\n",
              "\n",
              "  .colab-df-spinner {\n",
              "    border: 2px solid var(--fill-color);\n",
              "    border-color: transparent;\n",
              "    border-bottom-color: var(--fill-color);\n",
              "    animation:\n",
              "      spin 1s steps(1) infinite;\n",
              "  }\n",
              "\n",
              "  @keyframes spin {\n",
              "    0% {\n",
              "      border-color: transparent;\n",
              "      border-bottom-color: var(--fill-color);\n",
              "      border-left-color: var(--fill-color);\n",
              "    }\n",
              "    20% {\n",
              "      border-color: transparent;\n",
              "      border-left-color: var(--fill-color);\n",
              "      border-top-color: var(--fill-color);\n",
              "    }\n",
              "    30% {\n",
              "      border-color: transparent;\n",
              "      border-left-color: var(--fill-color);\n",
              "      border-top-color: var(--fill-color);\n",
              "      border-right-color: var(--fill-color);\n",
              "    }\n",
              "    40% {\n",
              "      border-color: transparent;\n",
              "      border-right-color: var(--fill-color);\n",
              "      border-top-color: var(--fill-color);\n",
              "    }\n",
              "    60% {\n",
              "      border-color: transparent;\n",
              "      border-right-color: var(--fill-color);\n",
              "    }\n",
              "    80% {\n",
              "      border-color: transparent;\n",
              "      border-right-color: var(--fill-color);\n",
              "      border-bottom-color: var(--fill-color);\n",
              "    }\n",
              "    90% {\n",
              "      border-color: transparent;\n",
              "      border-bottom-color: var(--fill-color);\n",
              "    }\n",
              "  }\n",
              "</style>\n",
              "\n",
              "      <script>\n",
              "        async function quickchart(key) {\n",
              "          const quickchartButtonEl =\n",
              "            document.querySelector('#' + key + ' button');\n",
              "          quickchartButtonEl.disabled = true;  // To prevent multiple clicks.\n",
              "          quickchartButtonEl.classList.add('colab-df-spinner');\n",
              "          try {\n",
              "            const charts = await google.colab.kernel.invokeFunction(\n",
              "                'suggestCharts', [key], {});\n",
              "          } catch (error) {\n",
              "            console.error('Error during call to suggestCharts:', error);\n",
              "          }\n",
              "          quickchartButtonEl.classList.remove('colab-df-spinner');\n",
              "          quickchartButtonEl.classList.add('colab-df-quickchart-complete');\n",
              "        }\n",
              "        (() => {\n",
              "          let quickchartButtonEl =\n",
              "            document.querySelector('#df-df43fcb6-9efc-4b39-9ef2-120405baa749 button');\n",
              "          quickchartButtonEl.style.display =\n",
              "            google.colab.kernel.accessAllowed ? 'block' : 'none';\n",
              "        })();\n",
              "      </script>\n",
              "    </div>\n",
              "\n",
              "    </div>\n",
              "  </div>\n"
            ],
            "application/vnd.google.colaboratory.intrinsic+json": {
              "type": "dataframe",
              "variable_name": "df",
              "summary": "{\n  \"name\": \"df\",\n  \"rows\": 27053,\n  \"fields\": [\n    {\n      \"column\": \"image_id\",\n      \"properties\": {\n        \"dtype\": \"string\",\n        \"num_unique_values\": 27053,\n        \"samples\": [\n          \"660715584.jpg\",\n          \"2522103312.jpg\",\n          \"3492066669.jpg\"\n        ],\n        \"semantic_type\": \"\",\n        \"description\": \"\"\n      }\n    },\n    {\n      \"column\": \"labels\",\n      \"properties\": {\n        \"dtype\": \"number\",\n        \"std\": 1,\n        \"min\": 0,\n        \"max\": 4,\n        \"num_unique_values\": 5,\n        \"samples\": [\n          1,\n          2,\n          0\n        ],\n        \"semantic_type\": \"\",\n        \"description\": \"\"\n      }\n    },\n    {\n      \"column\": \"disease_name\",\n      \"properties\": {\n        \"dtype\": \"category\",\n        \"num_unique_values\": 5,\n        \"samples\": [\n          \"Cassava Brown Streak Disease (CBSD)\",\n          \"Cassava Green Mottle (CGM)\",\n          \"Cassava Bacterial Blight (CBB)\"\n        ],\n        \"semantic_type\": \"\",\n        \"description\": \"\"\n      }\n    }\n  ]\n}"
            }
          },
          "metadata": {},
          "execution_count": 9
        }
      ],
      "source": [
        "labels_dict = {\n",
        "    0: 'Cassava Bacterial Blight (CBB)',\n",
        "    1: 'Cassava Brown Streak Disease (CBSD)',\n",
        "    2: 'Cassava Green Mottle (CGM)',\n",
        "    3: 'Cassava Mosaic Disease (CMD)',\n",
        "    4: 'Healthy'\n",
        "}\n",
        "\n",
        "# Add a new column 'disease_name' by mapping 'labels' to 'labels_dict'\n",
        "df['disease_name'] = df['labels'].map(labels_dict)\n",
        "\n",
        "# Display the updated DataFrame\n",
        "df.head()"
      ]
    },
    {
      "cell_type": "code",
      "execution_count": null,
      "metadata": {
        "id": "qcXzTvL_IGUN",
        "colab": {
          "base_uri": "https://localhost:8080/"
        },
        "outputId": "81db0a0b-d116-488d-e1ba-d3d03f7bd3ea"
      },
      "outputs": [
        {
          "output_type": "stream",
          "name": "stdout",
          "text": [
            "<class 'pandas.core.frame.DataFrame'>\n",
            "RangeIndex: 27053 entries, 0 to 27052\n",
            "Data columns (total 3 columns):\n",
            " #   Column        Non-Null Count  Dtype \n",
            "---  ------        --------------  ----- \n",
            " 0   image_id      27053 non-null  object\n",
            " 1   labels        27053 non-null  int64 \n",
            " 2   disease_name  27053 non-null  object\n",
            "dtypes: int64(1), object(2)\n",
            "memory usage: 634.2+ KB\n"
          ]
        }
      ],
      "source": [
        "df.info()"
      ]
    },
    {
      "cell_type": "code",
      "execution_count": null,
      "metadata": {
        "id": "EGCl4425qXEK"
      },
      "outputs": [],
      "source": [
        "train_path = os.path.join(destination, \"train_images\", \"train_images\")"
      ]
    },
    {
      "cell_type": "code",
      "execution_count": null,
      "metadata": {
        "id": "FSIFDJFFrh7L",
        "colab": {
          "base_uri": "https://localhost:8080/"
        },
        "outputId": "fff3b91a-7f57-4607-c9b0-4ed0b46d6d7e"
      },
      "outputs": [
        {
          "output_type": "stream",
          "name": "stdout",
          "text": [
            "✅ Created main folder: train/\n",
            "  ├── Created subfolder: Cassava Bacterial Blight (CBB)/\n",
            "  ├── Created subfolder: Cassava Brown Streak Disease (CBSD)/\n",
            "  ├── Created subfolder: Cassava Green Mottle (CGM)/\n",
            "  ├── Created subfolder: Cassava Mosaic Disease (CMD)/\n",
            "  ├── Created subfolder: Healthy/\n",
            "\n",
            "📊 Organization Complete!\n",
            "✅ Successfully copied: 27053 files\n",
            "⚠️  Missing files: 0\n",
            "📁 Final structure in: /content/train/\n"
          ]
        }
      ],
      "source": [
        "import os\n",
        "import shutil\n",
        "import pandas as pd\n",
        "\n",
        "# ===== CONFIGURATION =====\n",
        "source_folder = train_path  # Folder containing all your images\n",
        "destination_root = \"train\"        # Main folder to be created\n",
        "\n",
        "\n",
        "# ===== FOLDER CREATION =====\n",
        "# Create main folder and subfolders (with existence checks)\n",
        "os.makedirs(destination_root, exist_ok=True)  # Main 'train' folder\n",
        "print(f\"✅ Created main folder: {destination_root}/\")\n",
        "\n",
        "for disease in labels_dict.values():\n",
        "    subfolder = os.path.join(destination_root, disease)\n",
        "    os.makedirs(subfolder, exist_ok=True)\n",
        "    print(f\"  ├── Created subfolder: {disease}/\")\n",
        "\n",
        "# ===== IMAGE ORGANIZATION =====\n",
        "success_count = 0\n",
        "missing_count = 0\n",
        "\n",
        "for _, row in df.iterrows():\n",
        "    src = os.path.join(source_folder, row['image_id'])\n",
        "    dest = os.path.join(destination_root, labels_dict[row['labels']], row['image_id'])\n",
        "\n",
        "    try:\n",
        "        shutil.copy2(src, dest)  # copy2 preserves metadata\n",
        "        success_count += 1\n",
        "    except FileNotFoundError:\n",
        "        print(f\"⚠️ Missing: {row['image_id']}\")\n",
        "        missing_count += 1\n",
        "    except Exception as e:\n",
        "        print(f\"❌ Error copying {row['image_id']}: {str(e)}\")\n",
        "\n",
        "# ===== RESULTS SUMMARY =====\n",
        "print(\"\\n📊 Organization Complete!\")\n",
        "print(f\"✅ Successfully copied: {success_count} files\")\n",
        "print(f\"⚠️  Missing files: {missing_count}\")\n",
        "print(f\"📁 Final structure in: {os.path.abspath(destination_root)}/\")"
      ]
    },
    {
      "cell_type": "code",
      "execution_count": null,
      "metadata": {
        "id": "cggrHRqUAfFF"
      },
      "outputs": [],
      "source": [
        "classes = os.listdir(\"/content/train\")"
      ]
    },
    {
      "cell_type": "code",
      "execution_count": null,
      "metadata": {
        "id": "EUz0-bGqAwfB",
        "colab": {
          "base_uri": "https://localhost:8080/"
        },
        "outputId": "30c74bbb-e21d-4d62-aa47-48cb47fd7dfe"
      },
      "outputs": [
        {
          "output_type": "execute_result",
          "data": {
            "text/plain": [
              "['Cassava Brown Streak Disease (CBSD)',\n",
              " 'Cassava Bacterial Blight (CBB)',\n",
              " 'Cassava Mosaic Disease (CMD)',\n",
              " 'Healthy',\n",
              " 'Cassava Green Mottle (CGM)']"
            ]
          },
          "metadata": {},
          "execution_count": 14
        }
      ],
      "source": [
        "classes"
      ]
    },
    {
      "cell_type": "code",
      "execution_count": null,
      "metadata": {
        "id": "8yFutHQS9rxY"
      },
      "outputs": [],
      "source": [
        "destination_root = os.path.join(\"/content/train\")"
      ]
    },
    {
      "cell_type": "code",
      "execution_count": null,
      "metadata": {
        "id": "t49Mvs8L_T_E"
      },
      "outputs": [],
      "source": [
        "from pathlib import Path\n",
        "destination_root = Path(destination_root)"
      ]
    },
    {
      "cell_type": "code",
      "execution_count": null,
      "metadata": {
        "id": "rXXZt1EvZ99o",
        "colab": {
          "base_uri": "https://localhost:8080/"
        },
        "outputId": "7b567a8f-5802-4225-f834-cbf6333c7fae"
      },
      "outputs": [
        {
          "output_type": "execute_result",
          "data": {
            "text/plain": [
              "pathlib.PosixPath"
            ]
          },
          "metadata": {},
          "execution_count": 17
        }
      ],
      "source": [
        "type(destination_root)"
      ]
    },
    {
      "cell_type": "code",
      "execution_count": null,
      "metadata": {
        "id": "1MVJE_Y6aNT8",
        "colab": {
          "base_uri": "https://localhost:8080/"
        },
        "outputId": "e1aed5c3-1bd1-4783-c83b-c8d5361fdf34"
      },
      "outputs": [
        {
          "output_type": "execute_result",
          "data": {
            "text/plain": [
              "PosixPath('/content/train/Cassava Brown Streak Disease (CBSD)')"
            ]
          },
          "metadata": {},
          "execution_count": 18
        }
      ],
      "source": [
        "train_dir = list(destination_root.iterdir())\n",
        "train_dir[0]"
      ]
    },
    {
      "cell_type": "code",
      "execution_count": null,
      "metadata": {
        "id": "rcTLkip47Pn5",
        "colab": {
          "base_uri": "https://localhost:8080/"
        },
        "outputId": "42ce8650-04d9-422c-8a85-8d2ff02105df"
      },
      "outputs": [
        {
          "output_type": "execute_result",
          "data": {
            "text/plain": [
              "PosixPath('/content/train/Cassava Brown Streak Disease (CBSD)/344427708.jpg')"
            ]
          },
          "metadata": {},
          "execution_count": 19
        }
      ],
      "source": [
        "healthy_dir =train_dir[0]\n",
        "sample_img_path = list(healthy_dir.iterdir())[0]\n",
        "sample_img_path"
      ]
    },
    {
      "cell_type": "code",
      "execution_count": null,
      "metadata": {
        "id": "REphENRc72pN"
      },
      "outputs": [],
      "source": [
        "#lets investigate one of the images in the healthy directory\n",
        "sample_img = PIL.Image.open(sample_img_path)\n",
        "sample_img\n",
        "print(f\"The image has a shape of: {sample_img.size}.\")\n",
        "print(f\"The image has a mode of: {sample_img.mode}.\")"
      ]
    },
    {
      "cell_type": "code",
      "execution_count": null,
      "metadata": {
        "id": "BjfRhMH4dfVq"
      },
      "outputs": [],
      "source": [
        "#Function to convert image to RGB\n",
        "class ConvertToRGB:\n",
        "    def __call__(self, img):\n",
        "        if img.mode != \"RGB\":\n",
        "            img = img.convert(\"RGB\")\n",
        "        return img"
      ]
    },
    {
      "cell_type": "code",
      "execution_count": null,
      "metadata": {
        "id": "hCJZfRGC65Rw"
      },
      "outputs": [],
      "source": [
        "#Now lets build a pipeline to convert images to RGB Resize them to a good size and convert the images to tensors\n",
        "transform = transforms.Compose([\n",
        "    ConvertToRGB(),\n",
        "    transforms.Resize((224,224)),\n",
        "    transforms.ToTensor()\n",
        "])"
      ]
    },
    {
      "cell_type": "code",
      "execution_count": null,
      "metadata": {
        "id": "29PAjD4W9UZ9",
        "colab": {
          "base_uri": "https://localhost:8080/"
        },
        "outputId": "0af83427-2487-4fc4-d26b-f232655be9b7"
      },
      "outputs": [
        {
          "output_type": "execute_result",
          "data": {
            "text/plain": [
              "['Cassava Bacterial Blight (CBB)',\n",
              " 'Cassava Brown Streak Disease (CBSD)',\n",
              " 'Cassava Green Mottle (CGM)',\n",
              " 'Cassava Mosaic Disease (CMD)',\n",
              " 'Healthy']"
            ]
          },
          "metadata": {},
          "execution_count": 29
        }
      ],
      "source": [
        "#Lets convert our directory into a dataset with the class labels representinting classes for doing our classification\n",
        "dataset = datasets.ImageFolder(root=destination_root, transform=transform, target_transform=None)\n",
        "dataset.classes"
      ]
    },
    {
      "cell_type": "code",
      "execution_count": null,
      "metadata": {
        "id": "wmbZAgJj96pO",
        "colab": {
          "base_uri": "https://localhost:8080/"
        },
        "outputId": "45e5b15a-36b0-4898-fdac-b94643e7bfc5"
      },
      "outputs": [
        {
          "output_type": "execute_result",
          "data": {
            "text/plain": [
              "('/content/train/Cassava Bacterial Blight (CBB)/1000015157.jpg', 0)"
            ]
          },
          "metadata": {},
          "execution_count": 30
        }
      ],
      "source": [
        "#to investigate further how our dataset is arranged the dataset class has an attribute img which which returns path to our image and the class index\n",
        "dataset.imgs[0]\n"
      ]
    },
    {
      "cell_type": "code",
      "execution_count": null,
      "metadata": {
        "id": "EOLIhp6K-koN",
        "colab": {
          "base_uri": "https://localhost:8080/"
        },
        "outputId": "fd5aeab5-1a2b-4f47-c9b6-dbf5bd3116d8"
      },
      "outputs": [
        {
          "output_type": "execute_result",
          "data": {
            "text/plain": [
              "{'Cassava Bacterial Blight (CBB)': 0,\n",
              " 'Cassava Brown Streak Disease (CBSD)': 1,\n",
              " 'Cassava Green Mottle (CGM)': 2,\n",
              " 'Cassava Mosaic Disease (CMD)': 3,\n",
              " 'Healthy': 4}"
            ]
          },
          "metadata": {},
          "execution_count": 31
        }
      ],
      "source": [
        "#we can also investigate the class indexes with the attribute class_to index which returns a dictionary of classes mapped to the index\n",
        "dataset.class_to_idx"
      ]
    },
    {
      "cell_type": "code",
      "execution_count": null,
      "metadata": {
        "id": "asT9wk_8_08p",
        "colab": {
          "base_uri": "https://localhost:8080/"
        },
        "outputId": "38b5f31e-90bd-47ee-9b33-7487980868b2"
      },
      "outputs": [
        {
          "output_type": "stream",
          "name": "stdout",
          "text": [
            "Classes:\n",
            "['Cassava Bacterial Blight (CBB)', 'Cassava Brown Streak Disease (CBSD)', 'Cassava Green Mottle (CGM)', 'Cassava Mosaic Disease (CMD)', 'Healthy']\n",
            "That's 5 classes\n",
            "\n",
            "Tensor shape for one image:\n",
            "torch.Size([3, 224, 224])\n"
          ]
        }
      ],
      "source": [
        "print(\"Classes:\")\n",
        "print(dataset.classes)\n",
        "print(f\"That's {len(dataset.classes)} classes\")\n",
        "print()\n",
        "print(\"Tensor shape for one image:\")\n",
        "print(dataset[0][0].shape)"
      ]
    },
    {
      "cell_type": "code",
      "execution_count": null,
      "metadata": {
        "id": "207voeDIBw4Z"
      },
      "outputs": [],
      "source": [
        "#Normally we would work with the whole dataset but to make our work easier using pytorch it is reccomended we create a dataloader\n",
        "batch_size = 32\n",
        "dataloader = DataLoader(dataset=dataset, batch_size=batch_size)"
      ]
    },
    {
      "cell_type": "code",
      "execution_count": null,
      "metadata": {
        "id": "GozQJkPyChmw",
        "colab": {
          "base_uri": "https://localhost:8080/"
        },
        "outputId": "5242aa31-e849-4a36-a105-58c75b6b5cf0"
      },
      "outputs": [
        {
          "output_type": "stream",
          "name": "stdout",
          "text": [
            "Shape of one batch: torch.Size([32, 3, 224, 224])\n",
            "Shape of labels: torch.Size([32])\n"
          ]
        }
      ],
      "source": [
        "#lets investigate our data loader our dataloader using iter and next\n",
        "first_batch = next(iter(dataloader))\n",
        "print(f\"Shape of one batch: {first_batch[0].shape}\")\n",
        "print(f\"Shape of labels: {first_batch[1].shape}\")"
      ]
    },
    {
      "cell_type": "markdown",
      "metadata": {
        "id": "M0SmymbeFIrX"
      },
      "source": [
        "## Now we have our loader to train our model but first\n",
        "When we loop over this loader, it'll produce small batches of our images. This is what we want — these are the \"minibatches\" that will speed up our computations. In our case, each batch is  32  images, with each image  3  x  224  x  224 . It also provides us with the labels for the correct answers. This is the information we need to train a network. Normally we would split our data into training and validation test but to maximize our training accuracy pytorch works well with normalized data which is data with a mean of 0 and starndard deviation of 1, this is exactly what we are going to do, lets investigate our mean and starndard deviation then add them to our transform then we can split our training and validation sets"
      ]
    },
    {
      "cell_type": "code",
      "execution_count": null,
      "metadata": {
        "id": "ixyqn-hyF22S"
      },
      "outputs": [],
      "source": [
        "def get_mean_std(loader):\n",
        "    channels_sum, channels_squared_sum, num_batches = 0, 0, 0\n",
        "    for data, _ in loader:\n",
        "        channels_sum += torch.mean(data, dim=[0, 2, 3])\n",
        "        channels_squared_sum += torch.mean(data**2, dim=[0, 2, 3])\n",
        "        num_batches += 1\n",
        "\n",
        "    #mean calculation\n",
        "    mean = channels_sum / num_batches\n",
        "\n",
        "    #std calculation\n",
        "    std = (channels_squared_sum / num_batches - mean**2)**0.5\n",
        "\n",
        "    return mean, std\n"
      ]
    },
    {
      "cell_type": "code",
      "execution_count": null,
      "metadata": {
        "id": "PNQvECN3KyA3",
        "colab": {
          "base_uri": "https://localhost:8080/"
        },
        "outputId": "8a778df2-7546-4db2-8547-dad2c5cf32db"
      },
      "outputs": [
        {
          "output_type": "stream",
          "name": "stdout",
          "text": [
            "Mean: tensor([0.4340, 0.4967, 0.3152])\n",
            "Standard deviation: tensor([0.2183, 0.2203, 0.2071])\n"
          ]
        }
      ],
      "source": [
        "mean, std = get_mean_std(dataloader)\n",
        "print(f\"Mean: {mean}\")\n",
        "print(f\"Standard deviation: {std}\")"
      ]
    },
    {
      "cell_type": "markdown",
      "metadata": {
        "id": "iAfwFnviMVMr"
      },
      "source": [
        "Now tht we have the mean and starndard deviation we can go on and normalize our data, the beast way being doing it in the transformer oipeline"
      ]
    },
    {
      "cell_type": "code",
      "execution_count": null,
      "metadata": {
        "id": "uqXKxPgVMnQ5"
      },
      "outputs": [],
      "source": [
        "transform_norm = transforms.Compose(\n",
        "    [\n",
        "        ConvertToRGB(),\n",
        "        transforms.Resize((224,224)),\n",
        "        transforms.ToTensor(),\n",
        "        transforms.Normalize(mean=mean, std=std)\n",
        "    ]\n",
        ")"
      ]
    },
    {
      "cell_type": "code",
      "execution_count": null,
      "metadata": {
        "id": "lOQFlrcHw8m-"
      },
      "outputs": [],
      "source": [
        "dataset_norm = datasets.ImageFolder(root=destination_root, transform=transform_norm)"
      ]
    },
    {
      "cell_type": "code",
      "execution_count": null,
      "metadata": {
        "id": "TBlmG0HHx0M1",
        "colab": {
          "base_uri": "https://localhost:8080/"
        },
        "outputId": "5b7ef771-7460-4f40-a910-f8d86f9ecd9f"
      },
      "outputs": [
        {
          "output_type": "stream",
          "name": "stdout",
          "text": [
            "Shape of one batch: torch.Size([32, 3, 224, 224])\n",
            "Shape of labels: torch.Size([32])\n"
          ]
        }
      ],
      "source": [
        "norm_dataloader = DataLoader(dataset=dataset_norm, batch_size=batch_size)\n",
        "first_batch_norm = next(iter(norm_dataloader))\n",
        "print(f\"Shape of one batch: {first_batch_norm[0].shape}\")\n",
        "print(f\"Shape of labels: {first_batch_norm[1].shape}\")"
      ]
    },
    {
      "cell_type": "code",
      "execution_count": null,
      "metadata": {
        "id": "HGQOqCER0XBt",
        "colab": {
          "base_uri": "https://localhost:8080/"
        },
        "outputId": "527fe85b-db99-40dc-a50b-d97454285465"
      },
      "outputs": [
        {
          "output_type": "stream",
          "name": "stdout",
          "text": [
            "Mean: tensor([-2.0014e-07, -8.3626e-07, -1.6746e-07])\n",
            "Standard deviation: tensor([1.0000, 1.0000, 1.0000])\n"
          ]
        }
      ],
      "source": [
        "#lets look t the mean and std after our transformtion\n",
        "mean, std = get_mean_std(norm_dataloader)\n",
        "print(f\"Mean: {mean}\")\n",
        "print(f\"Standard deviation: {std}\")"
      ]
    },
    {
      "cell_type": "markdown",
      "metadata": {
        "id": "m6hjrUI11Wkk"
      },
      "source": [
        "## Train and Validtion split\n",
        "Now we will split our data into training and validtion when mking the dataloader to use in training our model. This will enable us assess the perfomance of our model"
      ]
    },
    {
      "cell_type": "code",
      "execution_count": null,
      "metadata": {
        "id": "nKk2Brq40NQ5",
        "colab": {
          "base_uri": "https://localhost:8080/"
        },
        "outputId": "eb0fc09c-04f2-4351-c6f0-2983cb2f705e"
      },
      "outputs": [
        {
          "output_type": "stream",
          "name": "stdout",
          "text": [
            "Train data is 80.0% of full data\n",
            "Validation data is 20.0% of full data\n"
          ]
        }
      ],
      "source": [
        "genenerator = torch.Generator().manual_seed(42)\n",
        "train_dataset, val_dataset = random_split(dataset_norm, [0.8, 0.2], generator=genenerator)\n",
        "length_train = len(train_dataset)\n",
        "length_val = len(val_dataset)\n",
        "length_dataset = len(dataset_norm)\n",
        "percent_train = np.round(100 * length_train / length_dataset, 2)\n",
        "percent_val = np.round(100 * length_val / length_dataset, 2)\n",
        "\n",
        "print(f\"Train data is {percent_train}% of full data\")\n",
        "print(f\"Validation data is {percent_val}% of full data\")"
      ]
    },
    {
      "cell_type": "markdown",
      "metadata": {
        "id": "MSOg9G4h3Sv-"
      },
      "source": [
        "Now lets check the number of categories we have in each dataset, we know we had different numbers of categories distributed"
      ]
    },
    {
      "cell_type": "code",
      "execution_count": null,
      "metadata": {
        "id": "09mNxcYI3zSr"
      },
      "outputs": [],
      "source": [
        "def class_counts(dataset):\n",
        "    c = Counter(x[1] for x in tqdm(dataset))\n",
        "    class_to_index = dataset.dataset.class_to_idx\n",
        "    return pd.Series({cat: c[idx] for cat, idx in class_to_index.items()})\n"
      ]
    },
    {
      "cell_type": "code",
      "execution_count": null,
      "metadata": {
        "id": "UQhVVJ1C43O3",
        "colab": {
          "base_uri": "https://localhost:8080/",
          "height": 273,
          "referenced_widgets": [
            "aa75b1a567cd40ba8ffa71e16424f1ba",
            "87ed121f251b48f292271ebf832847ff",
            "395e4f59419d4d2787c0b7a2e1ed6333",
            "cd1d71e3e65a4b288ddf0b8bc7b18d64",
            "c65c5a833d2d483e8bcfb8c701f6a092",
            "e62d8c83a2fa40f894b8625b077b8676",
            "91fc4e4958ab4189a4745e95dc4b9f14",
            "d53f5f1b15a043ab9b1ff5565cfc4254",
            "471c30997efb456c9cb20dc24b3d81bf",
            "2dfbc325e7474cb2ad1ccd8bb610d208",
            "f97305997b034107895220ef24baea0e"
          ]
        },
        "outputId": "d3735fa6-82de-48a0-9853-846c8b4a675f"
      },
      "outputs": [
        {
          "output_type": "display_data",
          "data": {
            "text/plain": [
              "  0%|          | 0/21643 [00:00<?, ?it/s]"
            ],
            "application/vnd.jupyter.widget-view+json": {
              "version_major": 2,
              "version_minor": 0,
              "model_id": "aa75b1a567cd40ba8ffa71e16424f1ba"
            }
          },
          "metadata": {}
        },
        {
          "output_type": "execute_result",
          "data": {
            "text/plain": [
              "Cassava Bacterial Blight (CBB)          1241\n",
              "Cassava Brown Streak Disease (CBSD)     2879\n",
              "Cassava Green Mottle (CGM)              2535\n",
              "Cassava Mosaic Disease (CMD)           12698\n",
              "Healthy                                 2290\n",
              "dtype: int64"
            ],
            "text/html": [
              "<div>\n",
              "<style scoped>\n",
              "    .dataframe tbody tr th:only-of-type {\n",
              "        vertical-align: middle;\n",
              "    }\n",
              "\n",
              "    .dataframe tbody tr th {\n",
              "        vertical-align: top;\n",
              "    }\n",
              "\n",
              "    .dataframe thead th {\n",
              "        text-align: right;\n",
              "    }\n",
              "</style>\n",
              "<table border=\"1\" class=\"dataframe\">\n",
              "  <thead>\n",
              "    <tr style=\"text-align: right;\">\n",
              "      <th></th>\n",
              "      <th>0</th>\n",
              "    </tr>\n",
              "  </thead>\n",
              "  <tbody>\n",
              "    <tr>\n",
              "      <th>Cassava Bacterial Blight (CBB)</th>\n",
              "      <td>1241</td>\n",
              "    </tr>\n",
              "    <tr>\n",
              "      <th>Cassava Brown Streak Disease (CBSD)</th>\n",
              "      <td>2879</td>\n",
              "    </tr>\n",
              "    <tr>\n",
              "      <th>Cassava Green Mottle (CGM)</th>\n",
              "      <td>2535</td>\n",
              "    </tr>\n",
              "    <tr>\n",
              "      <th>Cassava Mosaic Disease (CMD)</th>\n",
              "      <td>12698</td>\n",
              "    </tr>\n",
              "    <tr>\n",
              "      <th>Healthy</th>\n",
              "      <td>2290</td>\n",
              "    </tr>\n",
              "  </tbody>\n",
              "</table>\n",
              "</div><br><label><b>dtype:</b> int64</label>"
            ]
          },
          "metadata": {},
          "execution_count": 43
        }
      ],
      "source": [
        "#lets start with the training set\n",
        "train_count = class_counts(train_dataset)\n",
        "train_count"
      ]
    },
    {
      "cell_type": "code",
      "execution_count": null,
      "metadata": {
        "id": "0RGhz47Z5GUW"
      },
      "outputs": [],
      "source": [
        "#lets plot a bar chart to investigate the distribution this will be able to explain to us if we are dealing with imbalanced dta and the implictions to our model perfomance\n",
        "train_count.plot(kind=\"bar\")\n",
        "# Add axis labels and title\n",
        "plt.xlabel(\"Class Label\")\n",
        "plt.ylabel(\"Frequency [count]\")\n",
        "plt.title(\"Class Distribution in Training Set\");"
      ]
    },
    {
      "cell_type": "code",
      "execution_count": null,
      "metadata": {
        "id": "8OPRO3Zc5q8s",
        "colab": {
          "base_uri": "https://localhost:8080/",
          "height": 273,
          "referenced_widgets": [
            "1a63fa6f46724b97b4fc438d9f659591",
            "9248161f1f3547b780f64f44e06ef23e",
            "d00060a96a854e7aae91fab622b65043",
            "aa601db5cb2e4182857e758f77edf4a6",
            "6c12976ca04f46b19f2d69ef003b5fb6",
            "e852662fda8144549dbd77f3c34ee495",
            "4d04a4f6eb9542c2b6333b27181f389d",
            "ce4cd8732ad843aba35a670f03bd4b3d",
            "4a7a5d797311476b9d106d92f8bad97a",
            "bcb22994fa7f44ea8216dc22bd207652",
            "8c61bdb210b24f7cb874ebd7c23637ae"
          ]
        },
        "outputId": "3e0c4b86-6425-40f3-e032-dace1cf4c0f5"
      },
      "outputs": [
        {
          "output_type": "display_data",
          "data": {
            "text/plain": [
              "  0%|          | 0/5410 [00:00<?, ?it/s]"
            ],
            "application/vnd.jupyter.widget-view+json": {
              "version_major": 2,
              "version_minor": 0,
              "model_id": "1a63fa6f46724b97b4fc438d9f659591"
            }
          },
          "metadata": {}
        },
        {
          "output_type": "execute_result",
          "data": {
            "text/plain": [
              "Cassava Bacterial Blight (CBB)          312\n",
              "Cassava Brown Streak Disease (CBSD)     753\n",
              "Cassava Green Mottle (CGM)              624\n",
              "Cassava Mosaic Disease (CMD)           3118\n",
              "Healthy                                 603\n",
              "dtype: int64"
            ],
            "text/html": [
              "<div>\n",
              "<style scoped>\n",
              "    .dataframe tbody tr th:only-of-type {\n",
              "        vertical-align: middle;\n",
              "    }\n",
              "\n",
              "    .dataframe tbody tr th {\n",
              "        vertical-align: top;\n",
              "    }\n",
              "\n",
              "    .dataframe thead th {\n",
              "        text-align: right;\n",
              "    }\n",
              "</style>\n",
              "<table border=\"1\" class=\"dataframe\">\n",
              "  <thead>\n",
              "    <tr style=\"text-align: right;\">\n",
              "      <th></th>\n",
              "      <th>0</th>\n",
              "    </tr>\n",
              "  </thead>\n",
              "  <tbody>\n",
              "    <tr>\n",
              "      <th>Cassava Bacterial Blight (CBB)</th>\n",
              "      <td>312</td>\n",
              "    </tr>\n",
              "    <tr>\n",
              "      <th>Cassava Brown Streak Disease (CBSD)</th>\n",
              "      <td>753</td>\n",
              "    </tr>\n",
              "    <tr>\n",
              "      <th>Cassava Green Mottle (CGM)</th>\n",
              "      <td>624</td>\n",
              "    </tr>\n",
              "    <tr>\n",
              "      <th>Cassava Mosaic Disease (CMD)</th>\n",
              "      <td>3118</td>\n",
              "    </tr>\n",
              "    <tr>\n",
              "      <th>Healthy</th>\n",
              "      <td>603</td>\n",
              "    </tr>\n",
              "  </tbody>\n",
              "</table>\n",
              "</div><br><label><b>dtype:</b> int64</label>"
            ]
          },
          "metadata": {},
          "execution_count": 45
        }
      ],
      "source": [
        "#lets start with the training set\n",
        "val_count = class_counts(val_dataset)\n",
        "val_count"
      ]
    },
    {
      "cell_type": "code",
      "execution_count": null,
      "metadata": {
        "id": "1X3edW6K52vu"
      },
      "outputs": [],
      "source": [
        "#class distribution\n",
        "val_count.plot(kind=\"bar\")\n",
        "# Add axis labels and title\n",
        "plt.xlabel(\"Class Label\")\n",
        "plt.ylabel(\"Frequency [count]\")\n",
        "plt.title(\"Class Distribution in Validation Set\");"
      ]
    },
    {
      "cell_type": "code",
      "execution_count": null,
      "metadata": {
        "id": "JKZ_Yt-T8IYC",
        "colab": {
          "base_uri": "https://localhost:8080/"
        },
        "outputId": "0b598664-a943-44d2-d763-b2ff57364413"
      },
      "outputs": [
        {
          "output_type": "stream",
          "name": "stdout",
          "text": [
            "Shape of one batch: torch.Size([32, 3, 224, 224])\n"
          ]
        }
      ],
      "source": [
        "#Now we are good lets build a training and validation loader, we will set shuffle True to only the training set\n",
        "train_dataloader = DataLoader(dataset=train_dataset, batch_size=batch_size, shuffle=True, generator=genenerator)\n",
        "val_dataloader = DataLoader(dataset=val_dataset, batch_size=batch_size, shuffle=False)\n",
        "single_batch = next(iter(train_dataloader))[0]\n",
        "print(f\"Shape of one batch: {single_batch.shape}\")"
      ]
    },
    {
      "cell_type": "markdown",
      "metadata": {
        "id": "YQp6A5v09rpH"
      },
      "source": [
        "## MODEL ARCHITECHTURE\n",
        "Things are looking good we have our training and validation datAloader with a batchsize of 32 with images of 3 color channels and size of 224 by 224 now we are ready to move to the next step of bulding our model. Since we are dealing with  clasification problem we will build layers of convolution networks connected to a fully dense layer."
      ]
    },
    {
      "cell_type": "code",
      "execution_count": null,
      "metadata": {
        "id": "TkgwDeXO-veE"
      },
      "outputs": [],
      "source": [
        "#WE will build our model using sequential in the pytorch library\n",
        "model_seq = torch.nn.Sequential()"
      ]
    },
    {
      "cell_type": "markdown",
      "metadata": {
        "id": "D_gHPPz0FY5Y"
      },
      "source": [
        "1. We will create a convolution layer, pass in the number of channels in in our case 3 color channels and number of channels out, lets make it 16 a multiple of 2, use kernel_size of 3x3 and move a stride of 1\n",
        "2. Pass an activation function in this case we will use Relu\n",
        "3. then we will add a pooling lyer to reduce the output and in this case we will use maxpooling"
      ]
    },
    {
      "cell_type": "code",
      "execution_count": null,
      "metadata": {
        "id": "V2_GBV_YAW5w",
        "colab": {
          "base_uri": "https://localhost:8080/"
        },
        "outputId": "bce3689a-578d-4ffa-d7ad-534f789692a6"
      },
      "outputs": [
        {
          "output_type": "execute_result",
          "data": {
            "text/plain": [
              "Sequential(\n",
              "  (0): Conv2d(3, 16, kernel_size=(3, 3), stride=(1, 1))\n",
              "  (1): ReLU()\n",
              "  (2): MaxPool2d(kernel_size=2, stride=2, padding=0, dilation=1, ceil_mode=False)\n",
              ")"
            ]
          },
          "metadata": {},
          "execution_count": 49
        }
      ],
      "source": [
        "conv2d1 = torch.nn.Conv2d(in_channels=3, out_channels=16, kernel_size=3, stride=1)\n",
        "model_seq.append(conv2d1)\n",
        "model_seq.append(torch.nn.ReLU())\n",
        "maxpool1 = torch.nn.MaxPool2d(kernel_size=2)\n",
        "model_seq.append(maxpool1)"
      ]
    },
    {
      "cell_type": "code",
      "execution_count": null,
      "metadata": {
        "id": "WhzMoPwLL9Te",
        "colab": {
          "base_uri": "https://localhost:8080/"
        },
        "outputId": "0017e14f-0404-4ad3-f74d-819e12e7df97"
      },
      "outputs": [
        {
          "output_type": "execute_result",
          "data": {
            "text/plain": [
              "torch.Size([32, 16, 111, 111])"
            ]
          },
          "metadata": {},
          "execution_count": 50
        }
      ],
      "source": [
        "#Lets investigate with our test batch and see what we get\n",
        "model_seq(single_batch).shape"
      ]
    },
    {
      "cell_type": "markdown",
      "metadata": {
        "id": "I6esQ8mbNG73"
      },
      "source": [
        "We will add a convolution layer taking in our  16  channels and outputting  32  channels, with a  3  x  3  kernel and padding of  1 . Follow that with a ReLU, and a max pool of size  2  x  2."
      ]
    },
    {
      "cell_type": "code",
      "execution_count": null,
      "metadata": {
        "id": "xhROYmdCNRIN",
        "colab": {
          "base_uri": "https://localhost:8080/"
        },
        "outputId": "6e558ac1-dc53-4d0f-f959-8b8ff703d77d"
      },
      "outputs": [
        {
          "output_type": "execute_result",
          "data": {
            "text/plain": [
              "Sequential(\n",
              "  (0): Conv2d(3, 16, kernel_size=(3, 3), stride=(1, 1))\n",
              "  (1): ReLU()\n",
              "  (2): MaxPool2d(kernel_size=2, stride=2, padding=0, dilation=1, ceil_mode=False)\n",
              "  (3): Conv2d(16, 32, kernel_size=(3, 3), stride=(1, 1), padding=(1, 1))\n",
              "  (4): ReLU()\n",
              "  (5): MaxPool2d(kernel_size=2, stride=2, padding=0, dilation=1, ceil_mode=False)\n",
              ")"
            ]
          },
          "metadata": {},
          "execution_count": 51
        }
      ],
      "source": [
        "conv2d2 = torch.nn.Conv2d(in_channels=16, out_channels=32, kernel_size=3, stride=1, padding=1)\n",
        "model_seq.append(conv2d2)\n",
        "model_seq.append(torch.nn.ReLU())\n",
        "maxpool2 = torch.nn.MaxPool2d(kernel_size=2)\n",
        "model_seq.append(maxpool2)"
      ]
    },
    {
      "cell_type": "code",
      "execution_count": null,
      "metadata": {
        "id": "BRN_AKdWN2A_",
        "colab": {
          "base_uri": "https://localhost:8080/"
        },
        "outputId": "52e67ece-1eea-43e8-f449-c6127fd1c074"
      },
      "outputs": [
        {
          "output_type": "execute_result",
          "data": {
            "text/plain": [
              "torch.Size([32, 32, 55, 55])"
            ]
          },
          "metadata": {},
          "execution_count": 52
        }
      ],
      "source": [
        "#Lets investigate with our test batch and see what we get after maxpool 2\n",
        "model_seq(single_batch).shape"
      ]
    },
    {
      "cell_type": "code",
      "execution_count": null,
      "metadata": {
        "id": "Of2PwGuUOEBP",
        "colab": {
          "base_uri": "https://localhost:8080/"
        },
        "outputId": "1e89366d-b7ac-4bcc-9d1a-bd1aaa9781a4"
      },
      "outputs": [
        {
          "output_type": "execute_result",
          "data": {
            "text/plain": [
              "Sequential(\n",
              "  (0): Conv2d(3, 16, kernel_size=(3, 3), stride=(1, 1))\n",
              "  (1): ReLU()\n",
              "  (2): MaxPool2d(kernel_size=2, stride=2, padding=0, dilation=1, ceil_mode=False)\n",
              "  (3): Conv2d(16, 32, kernel_size=(3, 3), stride=(1, 1), padding=(1, 1))\n",
              "  (4): ReLU()\n",
              "  (5): MaxPool2d(kernel_size=2, stride=2, padding=0, dilation=1, ceil_mode=False)\n",
              "  (6): Conv2d(32, 64, kernel_size=(3, 3), stride=(1, 1), padding=(1, 1))\n",
              "  (7): ReLU()\n",
              "  (8): MaxPool2d(kernel_size=2, stride=2, padding=0, dilation=1, ceil_mode=False)\n",
              ")"
            ]
          },
          "metadata": {},
          "execution_count": 53
        }
      ],
      "source": [
        "#Lets add another layer of convolution network\n",
        "conv2d3 = torch.nn.Conv2d(in_channels=32, out_channels=64, kernel_size=3, stride=1, padding=1)\n",
        "model_seq.append(conv2d3)\n",
        "model_seq.append(torch.nn.ReLU())\n",
        "maxpool3 = torch.nn.MaxPool2d(kernel_size=2)\n",
        "model_seq.append(maxpool3)"
      ]
    },
    {
      "cell_type": "code",
      "execution_count": null,
      "metadata": {
        "id": "4_9bP-ZcP4j9",
        "colab": {
          "base_uri": "https://localhost:8080/"
        },
        "outputId": "b7614a46-a51a-46e5-f940-357fd7637ab7"
      },
      "outputs": [
        {
          "output_type": "execute_result",
          "data": {
            "text/plain": [
              "torch.Size([32, 64, 27, 27])"
            ]
          },
          "metadata": {},
          "execution_count": 54
        }
      ],
      "source": [
        "#Lets investigate with our test batch and see what we get after maxpool 3\n",
        "model_seq(single_batch).shape"
      ]
    },
    {
      "cell_type": "markdown",
      "metadata": {
        "id": "yXa6KLdtQHTb"
      },
      "source": [
        "We  are getting an out of 64 channel but for our dense layer we require a dimensional tensor which will be our batchsize and 64 x 27 x 27. For this we will flatten our otput using the flattening layer"
      ]
    },
    {
      "cell_type": "code",
      "execution_count": null,
      "metadata": {
        "id": "DLbGmLaJRLzB",
        "colab": {
          "base_uri": "https://localhost:8080/"
        },
        "outputId": "94611977-6e95-4a4f-d25f-d7bc419a848c"
      },
      "outputs": [
        {
          "output_type": "execute_result",
          "data": {
            "text/plain": [
              "torch.Size([32, 46656])"
            ]
          },
          "metadata": {},
          "execution_count": 55
        }
      ],
      "source": [
        "model_seq.append(torch.nn.Flatten())\n",
        "model_seq(single_batch).shape"
      ]
    },
    {
      "cell_type": "markdown",
      "metadata": {
        "id": "ggI980abSPF5"
      },
      "source": [
        "At this point we have a flat input, and can build a normal set of dense layers. You can think of the convolution/max pool layers as having done the image processing. Now we need to do the actual classification. It turns out that dense layers are good at that task.\n",
        "\n",
        "We could add a single layer and just go straight to our output $5$ classes. But we'll get better performance by adding a few dense layers, `Linear` in PyTorch's terminology, first. For these layers, we need to tell it the size of the input, and how many neurons we want in the layer. Since the input is our previous layer, we tell it that size. We'll add a layer of $500$ neurons."
      ]
    },
    {
      "cell_type": "code",
      "execution_count": null,
      "metadata": {
        "id": "xU566hR2STIi",
        "colab": {
          "base_uri": "https://localhost:8080/"
        },
        "outputId": "2e96294c-c3ea-4142-c168-f9965fd0562c"
      },
      "outputs": [
        {
          "output_type": "execute_result",
          "data": {
            "text/plain": [
              "Sequential(\n",
              "  (0): Conv2d(3, 16, kernel_size=(3, 3), stride=(1, 1))\n",
              "  (1): ReLU()\n",
              "  (2): MaxPool2d(kernel_size=2, stride=2, padding=0, dilation=1, ceil_mode=False)\n",
              "  (3): Conv2d(16, 32, kernel_size=(3, 3), stride=(1, 1), padding=(1, 1))\n",
              "  (4): ReLU()\n",
              "  (5): MaxPool2d(kernel_size=2, stride=2, padding=0, dilation=1, ceil_mode=False)\n",
              "  (6): Conv2d(32, 64, kernel_size=(3, 3), stride=(1, 1), padding=(1, 1))\n",
              "  (7): ReLU()\n",
              "  (8): MaxPool2d(kernel_size=2, stride=2, padding=0, dilation=1, ceil_mode=False)\n",
              "  (9): Flatten(start_dim=1, end_dim=-1)\n",
              "  (10): Dropout(p=0.5, inplace=False)\n",
              ")"
            ]
          },
          "metadata": {},
          "execution_count": 56
        }
      ],
      "source": [
        "# But first lets add a Dropout layer\n",
        "model_seq.append(torch.nn.Dropout(p=0.5))"
      ]
    },
    {
      "cell_type": "code",
      "execution_count": null,
      "metadata": {
        "id": "xEC__WLZSuqK",
        "colab": {
          "base_uri": "https://localhost:8080/"
        },
        "outputId": "f0542abe-7fdc-4e7b-f62b-e14130e9b76c"
      },
      "outputs": [
        {
          "output_type": "execute_result",
          "data": {
            "text/plain": [
              "Sequential(\n",
              "  (0): Conv2d(3, 16, kernel_size=(3, 3), stride=(1, 1))\n",
              "  (1): ReLU()\n",
              "  (2): MaxPool2d(kernel_size=2, stride=2, padding=0, dilation=1, ceil_mode=False)\n",
              "  (3): Conv2d(16, 32, kernel_size=(3, 3), stride=(1, 1), padding=(1, 1))\n",
              "  (4): ReLU()\n",
              "  (5): MaxPool2d(kernel_size=2, stride=2, padding=0, dilation=1, ceil_mode=False)\n",
              "  (6): Conv2d(32, 64, kernel_size=(3, 3), stride=(1, 1), padding=(1, 1))\n",
              "  (7): ReLU()\n",
              "  (8): MaxPool2d(kernel_size=2, stride=2, padding=0, dilation=1, ceil_mode=False)\n",
              "  (9): Flatten(start_dim=1, end_dim=-1)\n",
              "  (10): Dropout(p=0.5, inplace=False)\n",
              "  (11): Linear(in_features=46656, out_features=500, bias=True)\n",
              "  (12): ReLU()\n",
              ")"
            ]
          },
          "metadata": {},
          "execution_count": 57
        }
      ],
      "source": [
        "#Then we add  linear layer nd an activation function\n",
        "model_seq.append(torch.nn.Linear(in_features=64*27*27, out_features=500))\n",
        "model_seq.append(torch.nn.ReLU())"
      ]
    },
    {
      "cell_type": "code",
      "execution_count": null,
      "metadata": {
        "id": "Y_ZzS__4TodO",
        "colab": {
          "base_uri": "https://localhost:8080/"
        },
        "outputId": "07435ba4-77a1-486b-ba2c-a06dd15c01a4"
      },
      "outputs": [
        {
          "output_type": "execute_result",
          "data": {
            "text/plain": [
              "torch.Size([32, 500])"
            ]
          },
          "metadata": {},
          "execution_count": 58
        }
      ],
      "source": [
        "#Now lets ensure we get our 500 AS OUR OUTPUT\n",
        "model_seq(single_batch).shape"
      ]
    },
    {
      "cell_type": "code",
      "execution_count": null,
      "metadata": {
        "id": "78pmJDxoUatZ",
        "colab": {
          "base_uri": "https://localhost:8080/"
        },
        "outputId": "b9cea2a9-192a-4656-bb7f-94ffdfbdf040"
      },
      "outputs": [
        {
          "output_type": "execute_result",
          "data": {
            "text/plain": [
              "torch.Size([32, 5])"
            ]
          },
          "metadata": {},
          "execution_count": 59
        }
      ],
      "source": [
        "#Now we will add an output layer to get our five classes but first lets add  dropout lyer then a linear output lyer with 5 neurons\n",
        "model_seq.append(torch.nn.Dropout(p=0.5))\n",
        "model_seq.append(torch.nn.Linear(in_features=500, out_features=5))\n",
        "model_seq(single_batch).shape"
      ]
    },
    {
      "cell_type": "markdown",
      "metadata": {
        "id": "zC25p8VQVbhi"
      },
      "source": [
        "Before we start training, let's put all the model code in one place. This is how you'd do it in practice, to prevent errors."
      ]
    },
    {
      "cell_type": "code",
      "execution_count": null,
      "metadata": {
        "id": "4xGOy1XrViJu"
      },
      "outputs": [],
      "source": [
        "torch.manual_seed(42)\n",
        "torch.cuda.manual_seed(42)\n",
        "\n",
        "model = torch.nn.Sequential(\n",
        "    torch.nn.Conv2d(in_channels=3, out_channels=16, kernel_size=3, stride=1),\n",
        "    torch.nn.ReLU(),\n",
        "    torch.nn.MaxPool2d(kernel_size=2),\n",
        "    torch.nn.Conv2d(in_channels=16, out_channels=32, kernel_size=3, stride=1, padding=1),\n",
        "    torch.nn.ReLU(),\n",
        "    torch.nn.MaxPool2d(kernel_size=2),\n",
        "    torch.nn.Conv2d(in_channels=32, out_channels=64, kernel_size=3, stride=1, padding=1),\n",
        "    torch.nn.ReLU(),\n",
        "    torch.nn.MaxPool2d(kernel_size=2),\n",
        "    torch.nn.Flatten(),\n",
        "    torch.nn.Dropout(p=0.5),\n",
        "    torch.nn.Linear(in_features=64*27*27, out_features=500),\n",
        "    torch.nn.ReLU(),\n",
        "    torch.nn.Dropout(p=0.5),\n",
        "    torch.nn.Linear(in_features=500, out_features=5)\n",
        ")"
      ]
    },
    {
      "cell_type": "markdown",
      "metadata": {
        "id": "SA1T1qxCW-En"
      },
      "source": [
        "To mke sure ou model out put is correct"
      ]
    },
    {
      "cell_type": "code",
      "execution_count": null,
      "metadata": {
        "id": "sz1ThWaCXGfl",
        "colab": {
          "base_uri": "https://localhost:8080/"
        },
        "outputId": "e1b5be16-2f51-4b27-a7ae-937d76d929d0"
      },
      "outputs": [
        {
          "output_type": "execute_result",
          "data": {
            "text/plain": [
              "==========================================================================================\n",
              "Layer (type:depth-idx)                   Output Shape              Param #\n",
              "==========================================================================================\n",
              "Sequential                               [32, 5]                   --\n",
              "├─Conv2d: 1-1                            [32, 16, 222, 222]        448\n",
              "├─ReLU: 1-2                              [32, 16, 222, 222]        --\n",
              "├─MaxPool2d: 1-3                         [32, 16, 111, 111]        --\n",
              "├─Conv2d: 1-4                            [32, 32, 111, 111]        4,640\n",
              "├─ReLU: 1-5                              [32, 32, 111, 111]        --\n",
              "├─MaxPool2d: 1-6                         [32, 32, 55, 55]          --\n",
              "├─Conv2d: 1-7                            [32, 64, 55, 55]          18,496\n",
              "├─ReLU: 1-8                              [32, 64, 55, 55]          --\n",
              "├─MaxPool2d: 1-9                         [32, 64, 27, 27]          --\n",
              "├─Flatten: 1-10                          [32, 46656]               --\n",
              "├─Dropout: 1-11                          [32, 46656]               --\n",
              "├─Linear: 1-12                           [32, 500]                 23,328,500\n",
              "├─ReLU: 1-13                             [32, 500]                 --\n",
              "├─Dropout: 1-14                          [32, 500]                 --\n",
              "├─Linear: 1-15                           [32, 5]                   2,505\n",
              "==========================================================================================\n",
              "Total params: 23,354,589\n",
              "Trainable params: 23,354,589\n",
              "Non-trainable params: 0\n",
              "Total mult-adds (Units.GIGABYTES): 5.07\n",
              "==========================================================================================\n",
              "Input size (MB): 19.27\n",
              "Forward/backward pass size (MB): 352.49\n",
              "Params size (MB): 93.42\n",
              "Estimated Total Size (MB): 465.18\n",
              "=========================================================================================="
            ]
          },
          "metadata": {},
          "execution_count": 61
        }
      ],
      "source": [
        "height, width = 224, 224\n",
        "summary(model, input_size=(batch_size, 3, height, width))"
      ]
    },
    {
      "cell_type": "markdown",
      "metadata": {
        "id": "w10uNcgtXbAY"
      },
      "source": [
        "## MODEL TRAINING\n",
        "\n",
        "Now that we have finished building our model it time for trining according to our summry our model has over 23 million parameters. This will tke a long time to train, but first lets define the loss function and the optimizer we will be using. Since its a classification problem we will use Cross entropy and Adam optimizer"
      ]
    },
    {
      "cell_type": "code",
      "execution_count": null,
      "metadata": {
        "id": "mxEd9LpxYPcA"
      },
      "outputs": [],
      "source": [
        "loss_fn = torch.nn.CrossEntropyLoss()\n",
        "optimizer = torch.optim.Adam(params=model.parameters(), lr=0.001)"
      ]
    },
    {
      "cell_type": "markdown",
      "metadata": {
        "id": "ICEOHFUNZEo-"
      },
      "source": [
        "Now lets crete our training function we will use a for loop to iterate through all the batches and epochs we will also be evaluating our model perfomance by calculating training and validation loss"
      ]
    },
    {
      "cell_type": "code",
      "execution_count": null,
      "metadata": {
        "id": "i0hNh71ZYqIG",
        "colab": {
          "base_uri": "https://localhost:8080/"
        },
        "outputId": "5ba39687-e467-40ac-8713-d8dedfc13a8f"
      },
      "outputs": [
        {
          "output_type": "stream",
          "name": "stdout",
          "text": [
            "\n"
          ]
        }
      ],
      "source": [
        "def trainer(model, train_dataloader, val_dataloader, loss_fn, optimizer, epochs, device):\n",
        "  for epoch in tqdm(range(epochs)):\n",
        "    train_loss = 0\n",
        "    val_loss = 0\n",
        "    val_correct = 0\n",
        "    val_total = 0\n",
        "    model.train()\n",
        "    optimizer.zero_grad()\n",
        "    for batch, (X, y) in enumerate(train_dataloader):\n",
        "      X, y = X.to(device), y.to(device)\n",
        "      y_pred = model(X)\n",
        "      loss = loss_fn(y_pred, y)\n",
        "      loss.backward()\n",
        "      optimizer.step()\n",
        "      train_loss += loss.item()\n",
        "\n",
        "    with torch.no_grad():\n",
        "      for batch, (X, y) in enumerate(val_dataloader):\n",
        "        model.eval()\n",
        "        X, y = X.to(device), y.to(device)\n",
        "        y_pred = model(X)\n",
        "        loss = loss_fn(y_pred, y)\n",
        "        val_loss += loss.item()\n",
        "        _, predicted = torch.max(y_pred.data, 1)\n",
        "        val_total += y.size(0)\n",
        "        val_correct += (predicted == y).sum().item()\n",
        "\n",
        "    train_loss /= len(train_dataloader)\n",
        "    val_loss /= len(val_dataloader)\n",
        "    val_accuracy = 100 * val_correct / val_total\n",
        "\n",
        "    print(f\"Epoch {epoch+1}/{epochs}: Train Loss: {train_loss:.4f}, Val Loss: {val_loss:.4f}, Val Accuracy: {val_accuracy:.2f}%\")\n",
        "\n",
        "  return train_loss, val_loss\n",
        "\n",
        "print()"
      ]
    },
    {
      "cell_type": "markdown",
      "metadata": {
        "id": "4FP15vHVcC94"
      },
      "source": [
        "now that this is complete we will train our model for 8 epochs"
      ]
    },
    {
      "cell_type": "code",
      "execution_count": null,
      "metadata": {
        "id": "lxFZ4ortcSaw",
        "colab": {
          "base_uri": "https://localhost:8080/",
          "height": 205,
          "referenced_widgets": [
            "8d70742737b94f3dbf725a76419da94d",
            "9dd7949311c748b987a60159357e6c65",
            "0f8c9a9328ae4216ace24f1c56591773",
            "695d078e17474404bd79394fc552e347",
            "47e608b6414a42c7889c8fc4d8fc8b15",
            "6ce0539941824650a026a9abfb100bc8",
            "1a850e60c1f3414b9740b47a23e815c4",
            "f715c29536d04b468e0b4db8ba0e52a8",
            "3dd0435906c345d9a41774525160a794",
            "8add51b97d4843cfaa3fef6d33e97c81",
            "c12f282e87bf49528af53e3191e32b09"
          ]
        },
        "outputId": "b6ed3d5f-dd6b-45a1-ebd2-751c17501cf9"
      },
      "outputs": [
        {
          "output_type": "display_data",
          "data": {
            "text/plain": [
              "  0%|          | 0/8 [00:00<?, ?it/s]"
            ],
            "application/vnd.jupyter.widget-view+json": {
              "version_major": 2,
              "version_minor": 0,
              "model_id": "8d70742737b94f3dbf725a76419da94d"
            }
          },
          "metadata": {}
        },
        {
          "output_type": "stream",
          "name": "stdout",
          "text": [
            "Epoch 1/8: Train Loss: 1.3399, Val Loss: 1.2667, Val Accuracy: 57.63%\n",
            "Epoch 2/8: Train Loss: 1.2399, Val Loss: 1.2559, Val Accuracy: 57.63%\n",
            "Epoch 3/8: Train Loss: 1.2344, Val Loss: 1.2553, Val Accuracy: 57.63%\n",
            "Epoch 4/8: Train Loss: 1.2350, Val Loss: 1.2576, Val Accuracy: 57.63%\n",
            "Epoch 5/8: Train Loss: 1.2347, Val Loss: 1.2555, Val Accuracy: 57.63%\n",
            "Epoch 6/8: Train Loss: 1.2358, Val Loss: 1.2568, Val Accuracy: 57.63%\n",
            "Epoch 7/8: Train Loss: 1.2363, Val Loss: 1.2594, Val Accuracy: 57.63%\n",
            "Epoch 8/8: Train Loss: 1.2370, Val Loss: 1.2615, Val Accuracy: 57.63%\n"
          ]
        },
        {
          "output_type": "execute_result",
          "data": {
            "text/plain": [
              "(1.237021285462767, 1.2615290021195131)"
            ]
          },
          "metadata": {},
          "execution_count": 66
        }
      ],
      "source": [
        "trainer(model=model, train_dataloader=train_dataloader, val_dataloader=val_dataloader, loss_fn=loss_fn, optimizer=optimizer, epochs=8, device=device)\n"
      ]
    },
    {
      "cell_type": "markdown",
      "metadata": {
        "id": "nXQrBKgi_hev"
      },
      "source": [
        "Judging by the above figures the model is performing poorly and this may be attributed to by various factures.\n",
        "1. imbalanced data\n",
        "2. Our model might be to shallow\n",
        "So in the next trial we will try to undersample our dataset and also use a pretrained model from pytorch and see if our perfomance will improve but in the meanwhile lets sve our model."
      ]
    },
    {
      "cell_type": "code",
      "execution_count": null,
      "metadata": {
        "id": "MGt0mU5qAYOS"
      },
      "outputs": [],
      "source": [
        "torch.save(model, \"trained_model.pth\")"
      ]
    },
    {
      "cell_type": "code",
      "source": [
        "model = torch.load(\"trained_model.pth\", weights_only=False)"
      ],
      "metadata": {
        "id": "NmUUfNuAkAuv"
      },
      "execution_count": null,
      "outputs": []
    },
    {
      "cell_type": "markdown",
      "source": [
        "Now lets use our model to make our predictions"
      ],
      "metadata": {
        "id": "Hx0g7iYild7j"
      }
    },
    {
      "cell_type": "code",
      "source": [
        "def predict(model, dataloader, device):\n",
        "  model.eval()\n",
        "  all_predictions = []\n",
        "  all_targets = []\n",
        "  with torch.no_grad():\n",
        "    for batch, (X, y) in enumerate(dataloader):\n",
        "      X, y = X.to(device), y.to(device)\n",
        "      y_pred = model(X)\n",
        "      _, predicted = torch.max(y_pred.data, 1)\n",
        "      all_predictions.append(predicted.cpu())\n",
        "      all_targets.append(y.cpu())\n",
        "\n",
        "  return torch.cat(all_predictions), torch.cat(all_targets)"
      ],
      "metadata": {
        "id": "adq9TQTXlZYO"
      },
      "execution_count": null,
      "outputs": []
    },
    {
      "cell_type": "code",
      "source": [
        "predictions, targets = predict(model, dataloader=val_dataloader, device=device)\n",
        "predictions[0]"
      ],
      "metadata": {
        "colab": {
          "base_uri": "https://localhost:8080/"
        },
        "id": "krowwV20NEdQ",
        "outputId": "f5c6f845-db1d-4fce-9bd4-82aa81b5122b"
      },
      "execution_count": null,
      "outputs": [
        {
          "output_type": "execute_result",
          "data": {
            "text/plain": [
              "tensor(3)"
            ]
          },
          "metadata": {},
          "execution_count": 78
        }
      ]
    },
    {
      "cell_type": "markdown",
      "source": [
        "Now lets try to show try using our predictions to construct a confusion matrix but first we have to get the targets from the val loader"
      ],
      "metadata": {
        "id": "DsUlmpHcNr6v"
      }
    },
    {
      "cell_type": "code",
      "source": [
        "# target = []\n",
        "# for batch, (X, y) in enumerate(val_dataloader):\n",
        "#   target.append(y)"
      ],
      "metadata": {
        "id": "SrzHeT4QOgIT"
      },
      "execution_count": null,
      "outputs": []
    },
    {
      "cell_type": "code",
      "source": [
        "#lets calculate values for our confusion matrix\n",
        "cm = confusion_matrix(targets, predictions)\n",
        "\n",
        "#lets plot our confusion matrix\n",
        "fig = ConfusionMatrixDisplay(confusion_matrix=cm, display_labels=classes)\n",
        "fig.plot(cmap=plt.cm.Blues)\n",
        "plt.xticks(rotation=90) # Rotate x-axis labels\n",
        "plt.show()"
      ],
      "metadata": {
        "id": "qol5aQMgO0vC"
      },
      "execution_count": null,
      "outputs": []
    },
    {
      "cell_type": "markdown",
      "source": [
        "## CONCLUSION\n",
        "As noted earlier, the model performance isn't great, likely due to the imbalanced dataset and potentially the model architecture.\n",
        "\n",
        "Here are a few next steps we could consider:\n",
        "\n",
        "1. Address data imbalance: You could try techniques like undersampling the majority class or oversampling the minority classes in your training data.\n",
        "2. Experiment with a deeper model: Consider using a pre-trained convolutional neural network (CNN) like ResNet or VGG, which have shown great performance on image classification tasks. You could fine-tune it on your dataset.\n",
        "2. Hyperparameter tuning: Experiment with different learning rates, optimizers, and batch sizes to see if you can improve model performance."
      ],
      "metadata": {
        "id": "5SvgajMxSV3K"
      }
    },
    {
      "cell_type": "code",
      "source": [],
      "metadata": {
        "id": "kMnvyo-YSyLU"
      },
      "execution_count": null,
      "outputs": []
    },
    {
      "cell_type": "code",
      "metadata": {
        "id": "f8ffdadc"
      },
      "source": [
        "from google.colab import notebook\n",
        "\n",
        "# Clear the output of all cells\n",
        "notebook.clear_outputs()"
      ],
      "execution_count": null,
      "outputs": []
    }
  ],
  "metadata": {
    "colab": {
      "provenance": [],
      "authorship_tag": "ABX9TyNzIa6tLra8PLzBjrSWPwqm",
      "include_colab_link": true
    },
    "kernelspec": {
      "display_name": "Python 3",
      "name": "python3"
    },
    "language_info": {
      "name": "python"
    },
    "widgets": {
      "application/vnd.jupyter.widget-state+json": {
        "aa75b1a567cd40ba8ffa71e16424f1ba": {
          "model_module": "@jupyter-widgets/controls",
          "model_name": "HBoxModel",
          "model_module_version": "1.5.0",
          "state": {
            "_dom_classes": [],
            "_model_module": "@jupyter-widgets/controls",
            "_model_module_version": "1.5.0",
            "_model_name": "HBoxModel",
            "_view_count": null,
            "_view_module": "@jupyter-widgets/controls",
            "_view_module_version": "1.5.0",
            "_view_name": "HBoxView",
            "box_style": "",
            "children": [
              "IPY_MODEL_87ed121f251b48f292271ebf832847ff",
              "IPY_MODEL_395e4f59419d4d2787c0b7a2e1ed6333",
              "IPY_MODEL_cd1d71e3e65a4b288ddf0b8bc7b18d64"
            ],
            "layout": "IPY_MODEL_c65c5a833d2d483e8bcfb8c701f6a092"
          }
        },
        "87ed121f251b48f292271ebf832847ff": {
          "model_module": "@jupyter-widgets/controls",
          "model_name": "HTMLModel",
          "model_module_version": "1.5.0",
          "state": {
            "_dom_classes": [],
            "_model_module": "@jupyter-widgets/controls",
            "_model_module_version": "1.5.0",
            "_model_name": "HTMLModel",
            "_view_count": null,
            "_view_module": "@jupyter-widgets/controls",
            "_view_module_version": "1.5.0",
            "_view_name": "HTMLView",
            "description": "",
            "description_tooltip": null,
            "layout": "IPY_MODEL_e62d8c83a2fa40f894b8625b077b8676",
            "placeholder": "​",
            "style": "IPY_MODEL_91fc4e4958ab4189a4745e95dc4b9f14",
            "value": "100%"
          }
        },
        "395e4f59419d4d2787c0b7a2e1ed6333": {
          "model_module": "@jupyter-widgets/controls",
          "model_name": "FloatProgressModel",
          "model_module_version": "1.5.0",
          "state": {
            "_dom_classes": [],
            "_model_module": "@jupyter-widgets/controls",
            "_model_module_version": "1.5.0",
            "_model_name": "FloatProgressModel",
            "_view_count": null,
            "_view_module": "@jupyter-widgets/controls",
            "_view_module_version": "1.5.0",
            "_view_name": "ProgressView",
            "bar_style": "success",
            "description": "",
            "description_tooltip": null,
            "layout": "IPY_MODEL_d53f5f1b15a043ab9b1ff5565cfc4254",
            "max": 21643,
            "min": 0,
            "orientation": "horizontal",
            "style": "IPY_MODEL_471c30997efb456c9cb20dc24b3d81bf",
            "value": 21643
          }
        },
        "cd1d71e3e65a4b288ddf0b8bc7b18d64": {
          "model_module": "@jupyter-widgets/controls",
          "model_name": "HTMLModel",
          "model_module_version": "1.5.0",
          "state": {
            "_dom_classes": [],
            "_model_module": "@jupyter-widgets/controls",
            "_model_module_version": "1.5.0",
            "_model_name": "HTMLModel",
            "_view_count": null,
            "_view_module": "@jupyter-widgets/controls",
            "_view_module_version": "1.5.0",
            "_view_name": "HTMLView",
            "description": "",
            "description_tooltip": null,
            "layout": "IPY_MODEL_2dfbc325e7474cb2ad1ccd8bb610d208",
            "placeholder": "​",
            "style": "IPY_MODEL_f97305997b034107895220ef24baea0e",
            "value": " 21643/21643 [02:32&lt;00:00, 158.74it/s]"
          }
        },
        "c65c5a833d2d483e8bcfb8c701f6a092": {
          "model_module": "@jupyter-widgets/base",
          "model_name": "LayoutModel",
          "model_module_version": "1.2.0",
          "state": {
            "_model_module": "@jupyter-widgets/base",
            "_model_module_version": "1.2.0",
            "_model_name": "LayoutModel",
            "_view_count": null,
            "_view_module": "@jupyter-widgets/base",
            "_view_module_version": "1.2.0",
            "_view_name": "LayoutView",
            "align_content": null,
            "align_items": null,
            "align_self": null,
            "border": null,
            "bottom": null,
            "display": null,
            "flex": null,
            "flex_flow": null,
            "grid_area": null,
            "grid_auto_columns": null,
            "grid_auto_flow": null,
            "grid_auto_rows": null,
            "grid_column": null,
            "grid_gap": null,
            "grid_row": null,
            "grid_template_areas": null,
            "grid_template_columns": null,
            "grid_template_rows": null,
            "height": null,
            "justify_content": null,
            "justify_items": null,
            "left": null,
            "margin": null,
            "max_height": null,
            "max_width": null,
            "min_height": null,
            "min_width": null,
            "object_fit": null,
            "object_position": null,
            "order": null,
            "overflow": null,
            "overflow_x": null,
            "overflow_y": null,
            "padding": null,
            "right": null,
            "top": null,
            "visibility": null,
            "width": null
          }
        },
        "e62d8c83a2fa40f894b8625b077b8676": {
          "model_module": "@jupyter-widgets/base",
          "model_name": "LayoutModel",
          "model_module_version": "1.2.0",
          "state": {
            "_model_module": "@jupyter-widgets/base",
            "_model_module_version": "1.2.0",
            "_model_name": "LayoutModel",
            "_view_count": null,
            "_view_module": "@jupyter-widgets/base",
            "_view_module_version": "1.2.0",
            "_view_name": "LayoutView",
            "align_content": null,
            "align_items": null,
            "align_self": null,
            "border": null,
            "bottom": null,
            "display": null,
            "flex": null,
            "flex_flow": null,
            "grid_area": null,
            "grid_auto_columns": null,
            "grid_auto_flow": null,
            "grid_auto_rows": null,
            "grid_column": null,
            "grid_gap": null,
            "grid_row": null,
            "grid_template_areas": null,
            "grid_template_columns": null,
            "grid_template_rows": null,
            "height": null,
            "justify_content": null,
            "justify_items": null,
            "left": null,
            "margin": null,
            "max_height": null,
            "max_width": null,
            "min_height": null,
            "min_width": null,
            "object_fit": null,
            "object_position": null,
            "order": null,
            "overflow": null,
            "overflow_x": null,
            "overflow_y": null,
            "padding": null,
            "right": null,
            "top": null,
            "visibility": null,
            "width": null
          }
        },
        "91fc4e4958ab4189a4745e95dc4b9f14": {
          "model_module": "@jupyter-widgets/controls",
          "model_name": "DescriptionStyleModel",
          "model_module_version": "1.5.0",
          "state": {
            "_model_module": "@jupyter-widgets/controls",
            "_model_module_version": "1.5.0",
            "_model_name": "DescriptionStyleModel",
            "_view_count": null,
            "_view_module": "@jupyter-widgets/base",
            "_view_module_version": "1.2.0",
            "_view_name": "StyleView",
            "description_width": ""
          }
        },
        "d53f5f1b15a043ab9b1ff5565cfc4254": {
          "model_module": "@jupyter-widgets/base",
          "model_name": "LayoutModel",
          "model_module_version": "1.2.0",
          "state": {
            "_model_module": "@jupyter-widgets/base",
            "_model_module_version": "1.2.0",
            "_model_name": "LayoutModel",
            "_view_count": null,
            "_view_module": "@jupyter-widgets/base",
            "_view_module_version": "1.2.0",
            "_view_name": "LayoutView",
            "align_content": null,
            "align_items": null,
            "align_self": null,
            "border": null,
            "bottom": null,
            "display": null,
            "flex": null,
            "flex_flow": null,
            "grid_area": null,
            "grid_auto_columns": null,
            "grid_auto_flow": null,
            "grid_auto_rows": null,
            "grid_column": null,
            "grid_gap": null,
            "grid_row": null,
            "grid_template_areas": null,
            "grid_template_columns": null,
            "grid_template_rows": null,
            "height": null,
            "justify_content": null,
            "justify_items": null,
            "left": null,
            "margin": null,
            "max_height": null,
            "max_width": null,
            "min_height": null,
            "min_width": null,
            "object_fit": null,
            "object_position": null,
            "order": null,
            "overflow": null,
            "overflow_x": null,
            "overflow_y": null,
            "padding": null,
            "right": null,
            "top": null,
            "visibility": null,
            "width": null
          }
        },
        "471c30997efb456c9cb20dc24b3d81bf": {
          "model_module": "@jupyter-widgets/controls",
          "model_name": "ProgressStyleModel",
          "model_module_version": "1.5.0",
          "state": {
            "_model_module": "@jupyter-widgets/controls",
            "_model_module_version": "1.5.0",
            "_model_name": "ProgressStyleModel",
            "_view_count": null,
            "_view_module": "@jupyter-widgets/base",
            "_view_module_version": "1.2.0",
            "_view_name": "StyleView",
            "bar_color": null,
            "description_width": ""
          }
        },
        "2dfbc325e7474cb2ad1ccd8bb610d208": {
          "model_module": "@jupyter-widgets/base",
          "model_name": "LayoutModel",
          "model_module_version": "1.2.0",
          "state": {
            "_model_module": "@jupyter-widgets/base",
            "_model_module_version": "1.2.0",
            "_model_name": "LayoutModel",
            "_view_count": null,
            "_view_module": "@jupyter-widgets/base",
            "_view_module_version": "1.2.0",
            "_view_name": "LayoutView",
            "align_content": null,
            "align_items": null,
            "align_self": null,
            "border": null,
            "bottom": null,
            "display": null,
            "flex": null,
            "flex_flow": null,
            "grid_area": null,
            "grid_auto_columns": null,
            "grid_auto_flow": null,
            "grid_auto_rows": null,
            "grid_column": null,
            "grid_gap": null,
            "grid_row": null,
            "grid_template_areas": null,
            "grid_template_columns": null,
            "grid_template_rows": null,
            "height": null,
            "justify_content": null,
            "justify_items": null,
            "left": null,
            "margin": null,
            "max_height": null,
            "max_width": null,
            "min_height": null,
            "min_width": null,
            "object_fit": null,
            "object_position": null,
            "order": null,
            "overflow": null,
            "overflow_x": null,
            "overflow_y": null,
            "padding": null,
            "right": null,
            "top": null,
            "visibility": null,
            "width": null
          }
        },
        "f97305997b034107895220ef24baea0e": {
          "model_module": "@jupyter-widgets/controls",
          "model_name": "DescriptionStyleModel",
          "model_module_version": "1.5.0",
          "state": {
            "_model_module": "@jupyter-widgets/controls",
            "_model_module_version": "1.5.0",
            "_model_name": "DescriptionStyleModel",
            "_view_count": null,
            "_view_module": "@jupyter-widgets/base",
            "_view_module_version": "1.2.0",
            "_view_name": "StyleView",
            "description_width": ""
          }
        },
        "1a63fa6f46724b97b4fc438d9f659591": {
          "model_module": "@jupyter-widgets/controls",
          "model_name": "HBoxModel",
          "model_module_version": "1.5.0",
          "state": {
            "_dom_classes": [],
            "_model_module": "@jupyter-widgets/controls",
            "_model_module_version": "1.5.0",
            "_model_name": "HBoxModel",
            "_view_count": null,
            "_view_module": "@jupyter-widgets/controls",
            "_view_module_version": "1.5.0",
            "_view_name": "HBoxView",
            "box_style": "",
            "children": [
              "IPY_MODEL_9248161f1f3547b780f64f44e06ef23e",
              "IPY_MODEL_d00060a96a854e7aae91fab622b65043",
              "IPY_MODEL_aa601db5cb2e4182857e758f77edf4a6"
            ],
            "layout": "IPY_MODEL_6c12976ca04f46b19f2d69ef003b5fb6"
          }
        },
        "9248161f1f3547b780f64f44e06ef23e": {
          "model_module": "@jupyter-widgets/controls",
          "model_name": "HTMLModel",
          "model_module_version": "1.5.0",
          "state": {
            "_dom_classes": [],
            "_model_module": "@jupyter-widgets/controls",
            "_model_module_version": "1.5.0",
            "_model_name": "HTMLModel",
            "_view_count": null,
            "_view_module": "@jupyter-widgets/controls",
            "_view_module_version": "1.5.0",
            "_view_name": "HTMLView",
            "description": "",
            "description_tooltip": null,
            "layout": "IPY_MODEL_e852662fda8144549dbd77f3c34ee495",
            "placeholder": "​",
            "style": "IPY_MODEL_4d04a4f6eb9542c2b6333b27181f389d",
            "value": "100%"
          }
        },
        "d00060a96a854e7aae91fab622b65043": {
          "model_module": "@jupyter-widgets/controls",
          "model_name": "FloatProgressModel",
          "model_module_version": "1.5.0",
          "state": {
            "_dom_classes": [],
            "_model_module": "@jupyter-widgets/controls",
            "_model_module_version": "1.5.0",
            "_model_name": "FloatProgressModel",
            "_view_count": null,
            "_view_module": "@jupyter-widgets/controls",
            "_view_module_version": "1.5.0",
            "_view_name": "ProgressView",
            "bar_style": "success",
            "description": "",
            "description_tooltip": null,
            "layout": "IPY_MODEL_ce4cd8732ad843aba35a670f03bd4b3d",
            "max": 5410,
            "min": 0,
            "orientation": "horizontal",
            "style": "IPY_MODEL_4a7a5d797311476b9d106d92f8bad97a",
            "value": 5410
          }
        },
        "aa601db5cb2e4182857e758f77edf4a6": {
          "model_module": "@jupyter-widgets/controls",
          "model_name": "HTMLModel",
          "model_module_version": "1.5.0",
          "state": {
            "_dom_classes": [],
            "_model_module": "@jupyter-widgets/controls",
            "_model_module_version": "1.5.0",
            "_model_name": "HTMLModel",
            "_view_count": null,
            "_view_module": "@jupyter-widgets/controls",
            "_view_module_version": "1.5.0",
            "_view_name": "HTMLView",
            "description": "",
            "description_tooltip": null,
            "layout": "IPY_MODEL_bcb22994fa7f44ea8216dc22bd207652",
            "placeholder": "​",
            "style": "IPY_MODEL_8c61bdb210b24f7cb874ebd7c23637ae",
            "value": " 5410/5410 [00:37&lt;00:00, 154.17it/s]"
          }
        },
        "6c12976ca04f46b19f2d69ef003b5fb6": {
          "model_module": "@jupyter-widgets/base",
          "model_name": "LayoutModel",
          "model_module_version": "1.2.0",
          "state": {
            "_model_module": "@jupyter-widgets/base",
            "_model_module_version": "1.2.0",
            "_model_name": "LayoutModel",
            "_view_count": null,
            "_view_module": "@jupyter-widgets/base",
            "_view_module_version": "1.2.0",
            "_view_name": "LayoutView",
            "align_content": null,
            "align_items": null,
            "align_self": null,
            "border": null,
            "bottom": null,
            "display": null,
            "flex": null,
            "flex_flow": null,
            "grid_area": null,
            "grid_auto_columns": null,
            "grid_auto_flow": null,
            "grid_auto_rows": null,
            "grid_column": null,
            "grid_gap": null,
            "grid_row": null,
            "grid_template_areas": null,
            "grid_template_columns": null,
            "grid_template_rows": null,
            "height": null,
            "justify_content": null,
            "justify_items": null,
            "left": null,
            "margin": null,
            "max_height": null,
            "max_width": null,
            "min_height": null,
            "min_width": null,
            "object_fit": null,
            "object_position": null,
            "order": null,
            "overflow": null,
            "overflow_x": null,
            "overflow_y": null,
            "padding": null,
            "right": null,
            "top": null,
            "visibility": null,
            "width": null
          }
        },
        "e852662fda8144549dbd77f3c34ee495": {
          "model_module": "@jupyter-widgets/base",
          "model_name": "LayoutModel",
          "model_module_version": "1.2.0",
          "state": {
            "_model_module": "@jupyter-widgets/base",
            "_model_module_version": "1.2.0",
            "_model_name": "LayoutModel",
            "_view_count": null,
            "_view_module": "@jupyter-widgets/base",
            "_view_module_version": "1.2.0",
            "_view_name": "LayoutView",
            "align_content": null,
            "align_items": null,
            "align_self": null,
            "border": null,
            "bottom": null,
            "display": null,
            "flex": null,
            "flex_flow": null,
            "grid_area": null,
            "grid_auto_columns": null,
            "grid_auto_flow": null,
            "grid_auto_rows": null,
            "grid_column": null,
            "grid_gap": null,
            "grid_row": null,
            "grid_template_areas": null,
            "grid_template_columns": null,
            "grid_template_rows": null,
            "height": null,
            "justify_content": null,
            "justify_items": null,
            "left": null,
            "margin": null,
            "max_height": null,
            "max_width": null,
            "min_height": null,
            "min_width": null,
            "object_fit": null,
            "object_position": null,
            "order": null,
            "overflow": null,
            "overflow_x": null,
            "overflow_y": null,
            "padding": null,
            "right": null,
            "top": null,
            "visibility": null,
            "width": null
          }
        },
        "4d04a4f6eb9542c2b6333b27181f389d": {
          "model_module": "@jupyter-widgets/controls",
          "model_name": "DescriptionStyleModel",
          "model_module_version": "1.5.0",
          "state": {
            "_model_module": "@jupyter-widgets/controls",
            "_model_module_version": "1.5.0",
            "_model_name": "DescriptionStyleModel",
            "_view_count": null,
            "_view_module": "@jupyter-widgets/base",
            "_view_module_version": "1.2.0",
            "_view_name": "StyleView",
            "description_width": ""
          }
        },
        "ce4cd8732ad843aba35a670f03bd4b3d": {
          "model_module": "@jupyter-widgets/base",
          "model_name": "LayoutModel",
          "model_module_version": "1.2.0",
          "state": {
            "_model_module": "@jupyter-widgets/base",
            "_model_module_version": "1.2.0",
            "_model_name": "LayoutModel",
            "_view_count": null,
            "_view_module": "@jupyter-widgets/base",
            "_view_module_version": "1.2.0",
            "_view_name": "LayoutView",
            "align_content": null,
            "align_items": null,
            "align_self": null,
            "border": null,
            "bottom": null,
            "display": null,
            "flex": null,
            "flex_flow": null,
            "grid_area": null,
            "grid_auto_columns": null,
            "grid_auto_flow": null,
            "grid_auto_rows": null,
            "grid_column": null,
            "grid_gap": null,
            "grid_row": null,
            "grid_template_areas": null,
            "grid_template_columns": null,
            "grid_template_rows": null,
            "height": null,
            "justify_content": null,
            "justify_items": null,
            "left": null,
            "margin": null,
            "max_height": null,
            "max_width": null,
            "min_height": null,
            "min_width": null,
            "object_fit": null,
            "object_position": null,
            "order": null,
            "overflow": null,
            "overflow_x": null,
            "overflow_y": null,
            "padding": null,
            "right": null,
            "top": null,
            "visibility": null,
            "width": null
          }
        },
        "4a7a5d797311476b9d106d92f8bad97a": {
          "model_module": "@jupyter-widgets/controls",
          "model_name": "ProgressStyleModel",
          "model_module_version": "1.5.0",
          "state": {
            "_model_module": "@jupyter-widgets/controls",
            "_model_module_version": "1.5.0",
            "_model_name": "ProgressStyleModel",
            "_view_count": null,
            "_view_module": "@jupyter-widgets/base",
            "_view_module_version": "1.2.0",
            "_view_name": "StyleView",
            "bar_color": null,
            "description_width": ""
          }
        },
        "bcb22994fa7f44ea8216dc22bd207652": {
          "model_module": "@jupyter-widgets/base",
          "model_name": "LayoutModel",
          "model_module_version": "1.2.0",
          "state": {
            "_model_module": "@jupyter-widgets/base",
            "_model_module_version": "1.2.0",
            "_model_name": "LayoutModel",
            "_view_count": null,
            "_view_module": "@jupyter-widgets/base",
            "_view_module_version": "1.2.0",
            "_view_name": "LayoutView",
            "align_content": null,
            "align_items": null,
            "align_self": null,
            "border": null,
            "bottom": null,
            "display": null,
            "flex": null,
            "flex_flow": null,
            "grid_area": null,
            "grid_auto_columns": null,
            "grid_auto_flow": null,
            "grid_auto_rows": null,
            "grid_column": null,
            "grid_gap": null,
            "grid_row": null,
            "grid_template_areas": null,
            "grid_template_columns": null,
            "grid_template_rows": null,
            "height": null,
            "justify_content": null,
            "justify_items": null,
            "left": null,
            "margin": null,
            "max_height": null,
            "max_width": null,
            "min_height": null,
            "min_width": null,
            "object_fit": null,
            "object_position": null,
            "order": null,
            "overflow": null,
            "overflow_x": null,
            "overflow_y": null,
            "padding": null,
            "right": null,
            "top": null,
            "visibility": null,
            "width": null
          }
        },
        "8c61bdb210b24f7cb874ebd7c23637ae": {
          "model_module": "@jupyter-widgets/controls",
          "model_name": "DescriptionStyleModel",
          "model_module_version": "1.5.0",
          "state": {
            "_model_module": "@jupyter-widgets/controls",
            "_model_module_version": "1.5.0",
            "_model_name": "DescriptionStyleModel",
            "_view_count": null,
            "_view_module": "@jupyter-widgets/base",
            "_view_module_version": "1.2.0",
            "_view_name": "StyleView",
            "description_width": ""
          }
        },
        "8d70742737b94f3dbf725a76419da94d": {
          "model_module": "@jupyter-widgets/controls",
          "model_name": "HBoxModel",
          "model_module_version": "1.5.0",
          "state": {
            "_dom_classes": [],
            "_model_module": "@jupyter-widgets/controls",
            "_model_module_version": "1.5.0",
            "_model_name": "HBoxModel",
            "_view_count": null,
            "_view_module": "@jupyter-widgets/controls",
            "_view_module_version": "1.5.0",
            "_view_name": "HBoxView",
            "box_style": "",
            "children": [
              "IPY_MODEL_9dd7949311c748b987a60159357e6c65",
              "IPY_MODEL_0f8c9a9328ae4216ace24f1c56591773",
              "IPY_MODEL_695d078e17474404bd79394fc552e347"
            ],
            "layout": "IPY_MODEL_47e608b6414a42c7889c8fc4d8fc8b15"
          }
        },
        "9dd7949311c748b987a60159357e6c65": {
          "model_module": "@jupyter-widgets/controls",
          "model_name": "HTMLModel",
          "model_module_version": "1.5.0",
          "state": {
            "_dom_classes": [],
            "_model_module": "@jupyter-widgets/controls",
            "_model_module_version": "1.5.0",
            "_model_name": "HTMLModel",
            "_view_count": null,
            "_view_module": "@jupyter-widgets/controls",
            "_view_module_version": "1.5.0",
            "_view_name": "HTMLView",
            "description": "",
            "description_tooltip": null,
            "layout": "IPY_MODEL_6ce0539941824650a026a9abfb100bc8",
            "placeholder": "​",
            "style": "IPY_MODEL_1a850e60c1f3414b9740b47a23e815c4",
            "value": "100%"
          }
        },
        "0f8c9a9328ae4216ace24f1c56591773": {
          "model_module": "@jupyter-widgets/controls",
          "model_name": "FloatProgressModel",
          "model_module_version": "1.5.0",
          "state": {
            "_dom_classes": [],
            "_model_module": "@jupyter-widgets/controls",
            "_model_module_version": "1.5.0",
            "_model_name": "FloatProgressModel",
            "_view_count": null,
            "_view_module": "@jupyter-widgets/controls",
            "_view_module_version": "1.5.0",
            "_view_name": "ProgressView",
            "bar_style": "success",
            "description": "",
            "description_tooltip": null,
            "layout": "IPY_MODEL_f715c29536d04b468e0b4db8ba0e52a8",
            "max": 8,
            "min": 0,
            "orientation": "horizontal",
            "style": "IPY_MODEL_3dd0435906c345d9a41774525160a794",
            "value": 8
          }
        },
        "695d078e17474404bd79394fc552e347": {
          "model_module": "@jupyter-widgets/controls",
          "model_name": "HTMLModel",
          "model_module_version": "1.5.0",
          "state": {
            "_dom_classes": [],
            "_model_module": "@jupyter-widgets/controls",
            "_model_module_version": "1.5.0",
            "_model_name": "HTMLModel",
            "_view_count": null,
            "_view_module": "@jupyter-widgets/controls",
            "_view_module_version": "1.5.0",
            "_view_name": "HTMLView",
            "description": "",
            "description_tooltip": null,
            "layout": "IPY_MODEL_8add51b97d4843cfaa3fef6d33e97c81",
            "placeholder": "​",
            "style": "IPY_MODEL_c12f282e87bf49528af53e3191e32b09",
            "value": " 8/8 [30:32&lt;00:00, 228.84s/it]"
          }
        },
        "47e608b6414a42c7889c8fc4d8fc8b15": {
          "model_module": "@jupyter-widgets/base",
          "model_name": "LayoutModel",
          "model_module_version": "1.2.0",
          "state": {
            "_model_module": "@jupyter-widgets/base",
            "_model_module_version": "1.2.0",
            "_model_name": "LayoutModel",
            "_view_count": null,
            "_view_module": "@jupyter-widgets/base",
            "_view_module_version": "1.2.0",
            "_view_name": "LayoutView",
            "align_content": null,
            "align_items": null,
            "align_self": null,
            "border": null,
            "bottom": null,
            "display": null,
            "flex": null,
            "flex_flow": null,
            "grid_area": null,
            "grid_auto_columns": null,
            "grid_auto_flow": null,
            "grid_auto_rows": null,
            "grid_column": null,
            "grid_gap": null,
            "grid_row": null,
            "grid_template_areas": null,
            "grid_template_columns": null,
            "grid_template_rows": null,
            "height": null,
            "justify_content": null,
            "justify_items": null,
            "left": null,
            "margin": null,
            "max_height": null,
            "max_width": null,
            "min_height": null,
            "min_width": null,
            "object_fit": null,
            "object_position": null,
            "order": null,
            "overflow": null,
            "overflow_x": null,
            "overflow_y": null,
            "padding": null,
            "right": null,
            "top": null,
            "visibility": null,
            "width": null
          }
        },
        "6ce0539941824650a026a9abfb100bc8": {
          "model_module": "@jupyter-widgets/base",
          "model_name": "LayoutModel",
          "model_module_version": "1.2.0",
          "state": {
            "_model_module": "@jupyter-widgets/base",
            "_model_module_version": "1.2.0",
            "_model_name": "LayoutModel",
            "_view_count": null,
            "_view_module": "@jupyter-widgets/base",
            "_view_module_version": "1.2.0",
            "_view_name": "LayoutView",
            "align_content": null,
            "align_items": null,
            "align_self": null,
            "border": null,
            "bottom": null,
            "display": null,
            "flex": null,
            "flex_flow": null,
            "grid_area": null,
            "grid_auto_columns": null,
            "grid_auto_flow": null,
            "grid_auto_rows": null,
            "grid_column": null,
            "grid_gap": null,
            "grid_row": null,
            "grid_template_areas": null,
            "grid_template_columns": null,
            "grid_template_rows": null,
            "height": null,
            "justify_content": null,
            "justify_items": null,
            "left": null,
            "margin": null,
            "max_height": null,
            "max_width": null,
            "min_height": null,
            "min_width": null,
            "object_fit": null,
            "object_position": null,
            "order": null,
            "overflow": null,
            "overflow_x": null,
            "overflow_y": null,
            "padding": null,
            "right": null,
            "top": null,
            "visibility": null,
            "width": null
          }
        },
        "1a850e60c1f3414b9740b47a23e815c4": {
          "model_module": "@jupyter-widgets/controls",
          "model_name": "DescriptionStyleModel",
          "model_module_version": "1.5.0",
          "state": {
            "_model_module": "@jupyter-widgets/controls",
            "_model_module_version": "1.5.0",
            "_model_name": "DescriptionStyleModel",
            "_view_count": null,
            "_view_module": "@jupyter-widgets/base",
            "_view_module_version": "1.2.0",
            "_view_name": "StyleView",
            "description_width": ""
          }
        },
        "f715c29536d04b468e0b4db8ba0e52a8": {
          "model_module": "@jupyter-widgets/base",
          "model_name": "LayoutModel",
          "model_module_version": "1.2.0",
          "state": {
            "_model_module": "@jupyter-widgets/base",
            "_model_module_version": "1.2.0",
            "_model_name": "LayoutModel",
            "_view_count": null,
            "_view_module": "@jupyter-widgets/base",
            "_view_module_version": "1.2.0",
            "_view_name": "LayoutView",
            "align_content": null,
            "align_items": null,
            "align_self": null,
            "border": null,
            "bottom": null,
            "display": null,
            "flex": null,
            "flex_flow": null,
            "grid_area": null,
            "grid_auto_columns": null,
            "grid_auto_flow": null,
            "grid_auto_rows": null,
            "grid_column": null,
            "grid_gap": null,
            "grid_row": null,
            "grid_template_areas": null,
            "grid_template_columns": null,
            "grid_template_rows": null,
            "height": null,
            "justify_content": null,
            "justify_items": null,
            "left": null,
            "margin": null,
            "max_height": null,
            "max_width": null,
            "min_height": null,
            "min_width": null,
            "object_fit": null,
            "object_position": null,
            "order": null,
            "overflow": null,
            "overflow_x": null,
            "overflow_y": null,
            "padding": null,
            "right": null,
            "top": null,
            "visibility": null,
            "width": null
          }
        },
        "3dd0435906c345d9a41774525160a794": {
          "model_module": "@jupyter-widgets/controls",
          "model_name": "ProgressStyleModel",
          "model_module_version": "1.5.0",
          "state": {
            "_model_module": "@jupyter-widgets/controls",
            "_model_module_version": "1.5.0",
            "_model_name": "ProgressStyleModel",
            "_view_count": null,
            "_view_module": "@jupyter-widgets/base",
            "_view_module_version": "1.2.0",
            "_view_name": "StyleView",
            "bar_color": null,
            "description_width": ""
          }
        },
        "8add51b97d4843cfaa3fef6d33e97c81": {
          "model_module": "@jupyter-widgets/base",
          "model_name": "LayoutModel",
          "model_module_version": "1.2.0",
          "state": {
            "_model_module": "@jupyter-widgets/base",
            "_model_module_version": "1.2.0",
            "_model_name": "LayoutModel",
            "_view_count": null,
            "_view_module": "@jupyter-widgets/base",
            "_view_module_version": "1.2.0",
            "_view_name": "LayoutView",
            "align_content": null,
            "align_items": null,
            "align_self": null,
            "border": null,
            "bottom": null,
            "display": null,
            "flex": null,
            "flex_flow": null,
            "grid_area": null,
            "grid_auto_columns": null,
            "grid_auto_flow": null,
            "grid_auto_rows": null,
            "grid_column": null,
            "grid_gap": null,
            "grid_row": null,
            "grid_template_areas": null,
            "grid_template_columns": null,
            "grid_template_rows": null,
            "height": null,
            "justify_content": null,
            "justify_items": null,
            "left": null,
            "margin": null,
            "max_height": null,
            "max_width": null,
            "min_height": null,
            "min_width": null,
            "object_fit": null,
            "object_position": null,
            "order": null,
            "overflow": null,
            "overflow_x": null,
            "overflow_y": null,
            "padding": null,
            "right": null,
            "top": null,
            "visibility": null,
            "width": null
          }
        },
        "c12f282e87bf49528af53e3191e32b09": {
          "model_module": "@jupyter-widgets/controls",
          "model_name": "DescriptionStyleModel",
          "model_module_version": "1.5.0",
          "state": {
            "_model_module": "@jupyter-widgets/controls",
            "_model_module_version": "1.5.0",
            "_model_name": "DescriptionStyleModel",
            "_view_count": null,
            "_view_module": "@jupyter-widgets/base",
            "_view_module_version": "1.2.0",
            "_view_name": "StyleView",
            "description_width": ""
          }
        }
      }
    }
  },
  "nbformat": 4,
  "nbformat_minor": 0
}